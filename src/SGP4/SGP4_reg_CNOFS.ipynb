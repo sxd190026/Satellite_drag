{
 "cells": [
  {
   "cell_type": "code",
   "execution_count": 1,
   "id": "2720f771-8a11-4cec-9f0a-31e26f288f61",
   "metadata": {},
   "outputs": [],
   "source": [
    "import os\n",
    "import sys\n",
    "import pandas as pd\n",
    "import numpy as np\n",
    "import datetime as dt\n",
    "import matplotlib.pyplot as plt\n",
    "import julia \n",
    "import time\n",
    "import random\n",
    "import struct\n",
    "import pyreadstat\n",
    "import julian\n",
    "\n",
    "from tletools import TLE\n",
    "from astropy.time import Time\n",
    "\n",
    "from astropy.coordinates import CartesianDifferential,CartesianRepresentation,ITRS,GCRS,TEME,EarthLocation\n",
    "from astropy import units as u\n",
    "from mpl_toolkits.basemap import Basemap\n",
    "from scipy.io import readsav\n",
    "from scipy.interpolate import RegularGridInterpolator as RGI,interp1d,interp2d,splrep,splev\n",
    "from spacepy import pycdf\n",
    "from scipy.integrate import cumtrapz,simps\n",
    "from scipy.stats import pearsonr\n",
    "from scipy.signal import resample,correlate\n",
    "from numpy import floor,pi,corrcoef\n",
    "\n",
    "%matplotlib widget\n",
    "os.environ[\"CDF_LIB\"] = \"C:\\CDF_Distribution\\cdf38_0-dist\\lib\"\n",
    "m_p = 1.6726219 * (10**-27)\n",
    "m_o = 16*m_p\n"
   ]
  },
  {
   "cell_type": "code",
   "execution_count": 2,
   "id": "7563ec21-1c63-47e9-9e6e-2732fbf3bda4",
   "metadata": {},
   "outputs": [
    {
     "name": "stdout",
     "output_type": "stream",
     "text": [
      "Initializing Julia interpreter. This may take some time...\n"
     ]
    }
   ],
   "source": [
    "%load_ext julia.magic\n",
    "%julia using Dates;\n",
    "%julia using LinearAlgebra;\n",
    "%julia using DataFrames;\n",
    "# %julia cd(\"C://Users//soumy//OneDrive - The University of Texas at Dallas//Documents//MURI Project//SatelliteToolbox.jl-master//src//\")\n",
    "# %julia include(\"SatelliteToolbox.jl\");\n",
    "%julia using SatelliteToolbox"
   ]
  },
  {
   "cell_type": "code",
   "execution_count": 3,
   "id": "b2a07a36-802e-44b3-a688-04173a145385",
   "metadata": {},
   "outputs": [],
   "source": [
    "# filepath = \"C:\\\\Users\\\\soumy\\\\OneDrive - The University of Texas at Dallas\\\\Documents\\\\MURI Project\\\\Data\\\\Temp\\\\\"\n",
    "# os.chdir(filepath)\n",
    "# filename = \"GITM_epoch_2_min_june_2015.csv\"\n",
    "# gitm_epoch = pd.read_csv(filename)\n",
    "# gitm_epoch.index = pd.DatetimeIndex(gitm_epoch[\"Unnamed: 0\"])\n",
    "# del gitm_epoch[\"Unnamed: 0\"]\n",
    "# gitm_epochs = gitm_epoch.index"
   ]
  },
  {
   "cell_type": "code",
   "execution_count": 3,
   "id": "ed0d8591-77bb-41f3-9925-b3bc4f7af48f",
   "metadata": {},
   "outputs": [],
   "source": [
    "filepath = \"C:\\\\Users\\\\soumy\\\\OneDrive - The University of Texas at Dallas\\\\Documents\\\\MURI_Project_1\\\\Data\\\\Temp\\\\\"\n",
    "# filepath = '/Users/user/OneDrive - The University of Texas at Dallas/Documents/MURI Project/Data/Temp/'\n",
    "os.chdir(filepath)\n",
    "\n",
    "filename = 'CNOFS_june_2015.csv'\n",
    "Data = pd.read_csv(filename)\n",
    "Data.index = pd.DatetimeIndex(Data['Unnamed: 0'])\n",
    "CNOFS_Data = Data.drop('Unnamed: 0',axis=1)"
   ]
  },
  {
   "cell_type": "code",
   "execution_count": 4,
   "id": "e1bb8c04-f93b-4f14-9a4d-f7c5c85c7b17",
   "metadata": {},
   "outputs": [],
   "source": [
    "sat = 'CNOFS'\n",
    "year = 2015;month = 6;\n",
    "start = CNOFS_Data.index[0]; \n",
    "stop = CNOFS_Data.index[-1];\n"
   ]
  },
  {
   "cell_type": "code",
   "execution_count": 5,
   "id": "e6afa82a-d04d-4e9c-a911-4e9a8669d491",
   "metadata": {},
   "outputs": [],
   "source": [
    "filepath = 'C:\\\\Users\\\\soumy\\\\OneDrive - The University of Texas at Dallas\\\\Documents\\\\MURI_Project_1\\\\Data\\\\TLE\\\\'\n",
    "os.chdir(filepath)\n",
    "filename = 'CNOFS.txt'\n",
    "f = open(filename,'r')\n",
    "Data = f.readlines()\n",
    "f.close()"
   ]
  },
  {
   "cell_type": "code",
   "execution_count": 6,
   "id": "e54e25de-7e28-4f8c-86c2-9569c3016956",
   "metadata": {},
   "outputs": [],
   "source": [
    "\n",
    "epochs = []\n",
    "for i in range(int(len(Data)/2)):\n",
    "    tle_str = 'CNOFS\\n' + Data[2*i] + Data[2*i + 1]\n",
    "    tle_str = tle_str.strip().splitlines()\n",
    "    tle = TLE.from_lines(*tle_str)\n",
    "    epochs.append(dt.datetime(tle.epoch_year,1,1,0,0,0) + dt.timedelta(days = tle.epoch_day - 1))\n",
    "\n",
    "epochs = pd.DatetimeIndex(epochs)\n",
    "idx0 = np.where(epochs <= start)[0][-1]\n",
    "idx1 = np.where(epochs >= stop)[0][0]\n",
    "idx = list(range(idx0,idx1))\n"
   ]
  },
  {
   "cell_type": "code",
   "execution_count": null,
   "id": "02251695-4169-4fc8-8483-b5c4e365d681",
   "metadata": {},
   "outputs": [],
   "source": []
  },
  {
   "cell_type": "code",
   "execution_count": 7,
   "id": "9af99df0-dbc4-4877-ba6c-5bceac2f728d",
   "metadata": {},
   "outputs": [],
   "source": [
    "time_array = []\n",
    "%julia r = []; v=[]; param = [];\n",
    "for idx0 in idx:\n",
    "    start = epochs[idx0]\n",
    "    stop = epochs[idx0 + 1]\n",
    "    T = np.array((CNOFS_Data.index[(CNOFS_Data.index >= start) & (CNOFS_Data.index < stop)] - start)/dt.timedelta(seconds=1))\n",
    "    for t in T:\n",
    "        time_array.append(start + dt.timedelta(seconds= float(t)))\n",
    "    %julia tle_str = \"CNOFS\\n\" * py\"Data[2*idx0]\" * py\"Data[2*idx0 + 1]\";\n",
    "    %julia tle = SatelliteToolbox.read_tle_from_string(tle_str)\n",
    "    %julia orbp = SatelliteToolbox.init_orbit_propagator(Val(:sgp4),tle[1])\n",
    "    %julia T = $T\n",
    "    %julia for t in T; r0,v0 = SatelliteToolbox.propagate!(orbp,t); push!(r,r0); push!(v,v0);push!(param,[orbp.sgp4d.a_k,orbp.sgp4d.e_k,orbp.sgp4d.i_k,orbp.sgp4d.Ω_k, orbp.sgp4d.ω_k,orbp.sgp4d.M_k,orbp.sgp4d.n_k,orbp.sgp4d.bstar]); end;\n",
    "r = %julia r\n",
    "v = %julia v\n",
    "param = %julia param \n",
    "time_array = pd.DatetimeIndex(time_array)"
   ]
  },
  {
   "cell_type": "code",
   "execution_count": 8,
   "id": "aa3b5a5a-cb15-4df2-997f-bde02c0564ed",
   "metadata": {},
   "outputs": [],
   "source": [
    "semi_major_axis = [param[i][0] for i in range(len(param))];\n",
    "ecc = [param[i][1] for i in range(len(param))];\n",
    "inc = [param[i][2] for i in range(len(param))];\n",
    "raan = [param[i][3] for i in range(len(param))];\n",
    "argp = [param[i][4] for i in range(len(param))];\n",
    "mean_ano = [param[i][5] for i in range(len(param))]; \n",
    "mean_motion = [param[i][6] for i in range(len(param))];\n",
    "bstar = [param[i][7] for i in range(len(param))];\n",
    "X = [r[i][0] for i in range(len(param))];\n",
    "Y = [r[i][1] for i in range(len(param))];\n",
    "Z = [r[i][2] for i in range(len(param))];\n",
    "Vx = [v[i][0] for i in range(len(param))];\n",
    "Vy = [v[i][1] for i in range(len(param))];\n",
    "Vz = [v[i][2] for i in range(len(param))];\n"
   ]
  },
  {
   "cell_type": "code",
   "execution_count": 12,
   "id": "bd273fb4-148e-40cd-b80d-6683d8a22614",
   "metadata": {
    "tags": []
   },
   "outputs": [],
   "source": [
    "lat = [];lon = [];alt = [];\n",
    "for i in range(10):\n",
    "    t = Time(time_array[i],format = 'datetime')\n",
    "    teme_p = (r[i][0],r[i][1],r[i][2])\n",
    "    teme_v = (v[i][0],v[i][1],v[i][2])\n",
    "    teme_p = CartesianRepresentation(teme_p * u.m)\n",
    "    teme_v = CartesianDifferential(teme_v *u.m/u.s)\n",
    "    teme = TEME(teme_p.with_differentials(teme_v),obstime = t)\n",
    "    itrs = teme.transform_to(ITRS(obstime = t))\n",
    "    location = itrs.earth_location\n",
    "    loc = location.geodetic\n",
    "    lat.append(loc.lat.value)\n",
    "    lon.append(loc.lon.value)\n",
    "    alt.append(loc.height.value)\n",
    "end = time.time()"
   ]
  },
  {
   "cell_type": "code",
   "execution_count": 9,
   "id": "52f46208-bd19-4027-931e-177c96391bd7",
   "metadata": {},
   "outputs": [],
   "source": [
    "df_in = pd.DataFrame({\n",
    "                    # \"lat\":lat,\n",
    "                   # \"lon\":lon,\n",
    "                   # \"alt\":alt,\n",
    "                   \"semi_major_axis\":semi_major_axis,\n",
    "                  \"ecc\":ecc,\n",
    "                  \"inc\":inc,\n",
    "                  \"raan\":raan,\n",
    "                  \"argp\":argp,\n",
    "                  \"mean_ano\":mean_ano,\n",
    "                  \"mean_motion\":mean_motion,\n",
    "                  \"bstar\":bstar,\n",
    "                  \"X\":X,\"Y\":Y,\"Z\":Z,\n",
    "                      \"Vx\":Vx,\"Vy\":Vy,\"Vz\":Vz},index = time_array)\n",
    "df_in = df_in[(df_in.index >= CNOFS_Data.index[0]) & (df_in.index <= CNOFS_Data.index[-1])]\n"
   ]
  },
  {
   "cell_type": "code",
   "execution_count": 10,
   "id": "f7f4bb39-3269-4aa0-b11f-c9ad4c2adffe",
   "metadata": {},
   "outputs": [],
   "source": [
    "filepath = \"C:\\\\Users\\\\soumy\\\\OneDrive - The University of Texas at Dallas\\\\Documents\\\\MURI_Project_1\\\\Data\\\\Temp\\\\\"\n",
    "os.chdir(filepath)\n",
    "filename = \"SGP4_prop_reg_\"+sat + '_'+str(start.month).zfill(2) + '_' + str(start.year) + \".csv\"\n",
    "df_in.to_csv(filename)"
   ]
  },
  {
   "cell_type": "code",
   "execution_count": null,
   "id": "4634f83e-805f-41a6-a71d-086d3b418b82",
   "metadata": {},
   "outputs": [],
   "source": []
  }
 ],
 "metadata": {
  "kernelspec": {
   "display_name": "Python 3 (ipykernel)",
   "language": "python",
   "name": "python3"
  },
  "language_info": {
   "codemirror_mode": {
    "name": "ipython",
    "version": 3
   },
   "file_extension": ".py",
   "mimetype": "text/x-python",
   "name": "python",
   "nbconvert_exporter": "python",
   "pygments_lexer": "ipython3",
   "version": "3.9.12"
  }
 },
 "nbformat": 4,
 "nbformat_minor": 5
}
