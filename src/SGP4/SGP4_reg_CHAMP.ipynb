{
 "cells": [
  {
   "cell_type": "code",
   "execution_count": 1,
   "id": "cccfad21-6647-4739-bdc3-3fc0969efc81",
   "metadata": {},
   "outputs": [],
   "source": [
    "import os\n",
    "import sys\n",
    "import pandas as pd\n",
    "import numpy as np\n",
    "import datetime as dt\n",
    "import matplotlib.pyplot as plt\n",
    "import julia \n",
    "import time\n",
    "import random\n",
    "import struct\n",
    "import pyreadstat\n",
    "import julian\n",
    "\n",
    "from tletools import TLE\n",
    "from astropy.time import Time\n",
    "from astropy.coordinates import CartesianDifferential,CartesianRepresentation,ITRS,GCRS,TEME,EarthLocation\n",
    "from astropy import units as u\n",
    "from mpl_toolkits.basemap import Basemap\n",
    "from scipy.io import readsav\n",
    "from scipy.interpolate import RegularGridInterpolator as RGI,interp1d,interp2d,splrep,splev\n",
    "from spacepy import pycdf\n",
    "from scipy.integrate import cumtrapz,simps\n",
    "from scipy.stats import pearsonr\n",
    "from scipy.signal import resample,correlate\n",
    "from numpy import floor,pi,corrcoef\n",
    "\n",
    "%matplotlib widget\n",
    "os.environ[\"CDF_LIB\"] = \"C:\\CDF_Distribution\\cdf38_0-dist\\lib\"\n",
    "m_p = 1.6726219 * (10**-27)\n",
    "m_o = 16*m_p\n"
   ]
  },
  {
   "cell_type": "code",
   "execution_count": 2,
   "id": "7f2bae66-2529-4549-8844-71472aded0fd",
   "metadata": {},
   "outputs": [
    {
     "name": "stdout",
     "output_type": "stream",
     "text": [
      "Initializing Julia interpreter. This may take some time...\n"
     ]
    }
   ],
   "source": [
    "%load_ext julia.magic\n",
    "%julia using Dates;\n",
    "%julia using LinearAlgebra;\n",
    "%julia using DataFrames;\n",
    "%julia using SatelliteToolbox\n"
   ]
  },
  {
   "cell_type": "code",
   "execution_count": 32,
   "id": "3d70206a-43d9-4232-bd74-d46e2f33d374",
   "metadata": {},
   "outputs": [],
   "source": [
    "filepath = 'C:\\\\Users\\\\soumy\\\\OneDrive - The University of Texas at Dallas\\\\Documents\\\\MURI Project\\\\Data\\\\Temp\\\\'\n",
    "os.chdir(filepath)\n",
    "filename = 'CHAMP_NEUTRAL_04_2005.csv'\n",
    "CHAMP_Data = pd.read_csv(filename)\n",
    "CHAMP_Data.index = pd.DatetimeIndex(CHAMP_Data['Unnamed: 0'])\n",
    "CHAMP_Data = CHAMP_Data.drop('Unnamed: 0',axis=1)"
   ]
  },
  {
   "cell_type": "code",
   "execution_count": 22,
   "id": "4ff55bdf-822c-4b08-ad7f-0c3e5a238daa",
   "metadata": {},
   "outputs": [],
   "source": [
    "filepath = 'C:\\\\Users\\\\soumy\\\\OneDrive - The University of Texas at Dallas\\\\Documents\\\\MURI Project\\\\Data\\\\TLEs\\\\'\n",
    "os.chdir(filepath)\n",
    "filename = 'CHAMP-tle.txt'\n",
    "f = open(filename,'r')\n",
    "Data = f.readlines()\n",
    "f.close()"
   ]
  },
  {
   "cell_type": "code",
   "execution_count": 35,
   "id": "a84fd818-68fa-4c16-add7-986f3e02d8a0",
   "metadata": {},
   "outputs": [],
   "source": [
    "year = 2005;month = 4;\n",
    "start = dt.datetime(year,month,21,0,0,0); \n",
    "stop = dt.datetime(year,month,26,0,0,0);\n",
    "\n",
    "epochs = []\n",
    "for i in range(int(len(Data)/2)):\n",
    "    tle_str = 'CHAMP\\n' + Data[2*i] + Data[2*i + 1]\n",
    "    tle_str = tle_str.strip().splitlines()\n",
    "    tle = TLE.from_lines(*tle_str)\n",
    "    epochs.append(dt.datetime(tle.epoch_year,1,1,0,0,0) + dt.timedelta(days = tle.epoch_day - 1))\n",
    "\n",
    "epochs = pd.DatetimeIndex(epochs)\n",
    "idx0 = np.where(epochs <= start)[0][-1]\n",
    "idx1 = np.where(epochs >= stop)[0][0]\n",
    "idx = range(idx0,idx1)"
   ]
  },
  {
   "cell_type": "code",
   "execution_count": 36,
   "id": "9a14c136-2890-4a8f-bde2-9ee6ba0efa9d",
   "metadata": {},
   "outputs": [],
   "source": [
    "time_array = []\n",
    "%julia r = []; v=[]; param = [];\n",
    "for idx0 in idx:\n",
    "    start = epochs[idx0]\n",
    "    stop = epochs[idx0 + 1]\n",
    "    T = np.array((CHAMP_Data[(CHAMP_Data.index >= start) & (CHAMP_Data.index < stop)].index - start)/dt.timedelta(seconds=1))\n",
    "    # DT = (stop - start)/dt.timedelta(seconds =1)\n",
    "    # T = np.arange(0,DT,5)\n",
    "    for t in T:\n",
    "        time_array.append(start + dt.timedelta(seconds= float(t)))\n",
    "    %julia tle_str = \"CHAMP\\n\" * py\"Data[2*idx0]\" * py\"Data[2*idx0 + 1]\";\n",
    "    %julia tle = SatelliteToolbox.read_tle_from_string(tle_str)\n",
    "    %julia orbp = SatelliteToolbox.init_orbit_propagator(Val(:sgp4),tle[1])\n",
    "    %julia T = $T\n",
    "    %julia for t in T; r0,v0 = SatelliteToolbox.propagate!(orbp,t); push!(r,r0); push!(v,v0);push!(param,[orbp.sgp4d.a_k,orbp.sgp4d.e_k,orbp.sgp4d.i_k,orbp.sgp4d.Ω_k, orbp.sgp4d.ω_k,orbp.sgp4d.M_k,orbp.sgp4d.n_k,orbp.sgp4d.bstar]); end;\n",
    "r = %julia r\n",
    "v = %julia v\n",
    "param = %julia param \n",
    "time_array = pd.DatetimeIndex(time_array)"
   ]
  },
  {
   "cell_type": "code",
   "execution_count": 39,
   "id": "d42398a8-2b31-4a04-a2e5-0fc1c75497ca",
   "metadata": {},
   "outputs": [],
   "source": [
    "semi_major_axis = [param[i][0] for i in range(len(param))];\n",
    "ecc = [param[i][1] for i in range(len(param))];\n",
    "inc = [param[i][2] for i in range(len(param))];\n",
    "raan = [param[i][3] for i in range(len(param))];\n",
    "argp = [param[i][4] for i in range(len(param))];\n",
    "mean_ano = [param[i][5] for i in range(len(param))]; \n",
    "mean_motion = [param[i][6] for i in range(len(param))];\n",
    "bstar = [param[i][7] for i in range(len(param))];\n",
    "X = [r[i][0] for i in range(len(param))];\n",
    "Y = [r[i][1] for i in range(len(param))];\n",
    "Z = [r[i][2] for i in range(len(param))];\n",
    "Vx = [v[i][0] for i in range(len(param))];\n",
    "Vy = [v[i][1] for i in range(len(param))];\n",
    "Vz = [v[i][2] for i in range(len(param))];\n"
   ]
  },
  {
   "cell_type": "code",
   "execution_count": 40,
   "id": "154ea765-f4d1-4b51-bd7a-b01b74f238ca",
   "metadata": {
    "tags": []
   },
   "outputs": [],
   "source": [
    "lat = [];lon = [];alt = [];\n",
    "for i in range(len(r)):\n",
    "    t = Time(time_array[i],format = 'datetime')\n",
    "    teme_p = (r[i][0],r[i][1],r[i][2])\n",
    "    teme_v = (v[i][0],v[i][1],v[i][2])\n",
    "    teme_p = CartesianRepresentation(teme_p * u.m)\n",
    "    teme_v = CartesianDifferential(teme_v *u.m/u.s)\n",
    "    teme = TEME(teme_p.with_differentials(teme_v),obstime = t)\n",
    "    itrs = teme.transform_to(ITRS(obstime = t))\n",
    "    location = itrs.earth_location\n",
    "    loc = location.geodetic\n",
    "    lat.append(loc.lat.value)\n",
    "    lon.append(loc.lon.value)\n",
    "    alt.append(loc.height.value)\n",
    "end = time.time()"
   ]
  },
  {
   "cell_type": "code",
   "execution_count": 41,
   "id": "6a1cce30-a255-4a07-a844-078d6f3f36bd",
   "metadata": {},
   "outputs": [],
   "source": [
    "df_in = pd.DataFrame({\"lat\":lat,\n",
    "                   \"lon\":lon,\n",
    "                   \"alt\":alt,\n",
    "                   \"semi_major_axis\":semi_major_axis,\n",
    "                  \"ecc\":ecc,\n",
    "                  \"inc\":inc,\n",
    "                  \"raan\":raan,\n",
    "                  \"argp\":argp,\n",
    "                  \"mean_ano\":mean_ano,\n",
    "                  \"mean_motion\":mean_motion,\n",
    "                  \"bstar\":bstar,\n",
    "                  \"X\":X,\"Y\":Y,\"Z\":Z,\n",
    "                      \"Vx\":Vx,\"Vy\":Vy,\"Vz\":Vz},index = time_array)\n",
    "df_in = df_in[(df_in.index >= dt.datetime(2005,4,21,0,0,0)) & (df_in.index <= dt.datetime(2005,4,26,0,0,0))]\n"
   ]
  },
  {
   "cell_type": "code",
   "execution_count": 42,
   "id": "4244fd78-92d7-440c-a220-6fbaf70b202e",
   "metadata": {},
   "outputs": [],
   "source": [
    "filepath = \"C:\\\\Users\\\\soumy\\\\OneDrive - The University of Texas at Dallas\\\\Documents\\\\MURI Project\\\\Data\\\\Temp\\\\\"\n",
    "os.chdir(filepath)\n",
    "filename = \"SGP4_prop_reg_CHAMP_apr_2005.csv\"\n",
    "df_in.to_csv(filename)"
   ]
  },
  {
   "cell_type": "code",
   "execution_count": null,
   "id": "90fcfe78-047a-4da1-8b4e-06ebb0ebe5c1",
   "metadata": {},
   "outputs": [],
   "source": []
  },
  {
   "cell_type": "code",
   "execution_count": null,
   "id": "0f5e027b-59a3-4869-87fc-25520f90bd74",
   "metadata": {},
   "outputs": [],
   "source": []
  }
 ],
 "metadata": {
  "kernelspec": {
   "display_name": "Python 3 (ipykernel)",
   "language": "python",
   "name": "python3"
  },
  "language_info": {
   "codemirror_mode": {
    "name": "ipython",
    "version": 3
   },
   "file_extension": ".py",
   "mimetype": "text/x-python",
   "name": "python",
   "nbconvert_exporter": "python",
   "pygments_lexer": "ipython3",
   "version": "3.9.7"
  }
 },
 "nbformat": 4,
 "nbformat_minor": 5
}
