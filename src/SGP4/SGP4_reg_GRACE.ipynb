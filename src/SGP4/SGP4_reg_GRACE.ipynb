{
 "cells": [
  {
   "cell_type": "code",
   "execution_count": 1,
   "id": "2720f771-8a11-4cec-9f0a-31e26f288f61",
   "metadata": {},
   "outputs": [
    {
     "name": "stderr",
     "output_type": "stream",
     "text": [
      "/Users/user/.local/lib/python3.9/site-packages/spacepy/time.py:2365: UserWarning: Leapseconds may be out of date. Use spacepy.toolbox.update(leapsecs=True)\n",
      "  warnings.warn('Leapseconds may be out of date.'\n"
     ]
    }
   ],
   "source": [
    "import os\n",
    "import sys\n",
    "import pandas as pd\n",
    "import numpy as np\n",
    "import datetime as dt\n",
    "import matplotlib.pyplot as plt\n",
    "import julia \n",
    "import time\n",
    "import random\n",
    "import struct\n",
    "import pyreadstat\n",
    "import julian\n",
    "\n",
    "from tletools import TLE\n",
    "from astropy.time import Time\n",
    "from astropy.coordinates import CartesianDifferential,CartesianRepresentation,ITRS,TEME,EarthLocation\n",
    "from astropy import units as u\n",
    "from mpl_toolkits.basemap import Basemap\n",
    "from scipy.io import readsav\n",
    "from scipy.interpolate import RegularGridInterpolator as RGI,interp1d,interp2d,splrep,splev\n",
    "from spacepy import pycdf\n",
    "from scipy.integrate import cumtrapz,simps\n",
    "from scipy.stats import pearsonr\n",
    "from scipy.signal import resample,correlate\n",
    "from numpy import floor,pi,corrcoef\n",
    "from tqdm import tqdm\n",
    "\n",
    "%matplotlib widget\n",
    "os.environ[\"CDF_LIB\"] = \"C:\\CDF_Distribution\\cdf38_0-dist\\lib\"\n",
    "m_p = 1.6726219 * (10**-27)\n",
    "m_o = 16*m_p\n"
   ]
  },
  {
   "cell_type": "code",
   "execution_count": 2,
   "id": "59fbb946-1323-401c-8f91-6e9a044b54d6",
   "metadata": {},
   "outputs": [],
   "source": [
    "from julia.api import Julia\n",
    "jl = Julia(compiled_modules=False)"
   ]
  },
  {
   "cell_type": "code",
   "execution_count": 3,
   "id": "e7e68005-97db-46e9-a5a2-b8b71dcbbafc",
   "metadata": {},
   "outputs": [],
   "source": [
    "sat = 'GRACEA'\n",
    "sat_in_filename = 'graceA'\n",
    "start = dt.datetime(2005,8,1,0,0,0)\n",
    "stop = dt.datetime(2005,9,1,0,0,0)\n",
    "no_of_days = int(np.ceil((stop - start)/dt.timedelta(days=1)))\n"
   ]
  },
  {
   "cell_type": "code",
   "execution_count": 4,
   "id": "80028216-f0e7-4052-8437-b3beee5b96a7",
   "metadata": {},
   "outputs": [],
   "source": [
    "# %julia import Pkg; Pkg.rm(\"SatelliteToolbox\")"
   ]
  },
  {
   "cell_type": "code",
   "execution_count": null,
   "id": "15207c30-ae13-4ff5-ad82-a265b8a9e9fc",
   "metadata": {},
   "outputs": [],
   "source": []
  },
  {
   "cell_type": "code",
   "execution_count": 4,
   "id": "7563ec21-1c63-47e9-9e6e-2732fbf3bda4",
   "metadata": {},
   "outputs": [
    {
     "name": "stdout",
     "output_type": "stream",
     "text": [
      "Initializing Julia interpreter. This may take some time...\n"
     ]
    },
    {
     "name": "stderr",
     "output_type": "stream",
     "text": [
      "[ Info: Downloading file 'DTCFILE.TXT' from 'http://sol.spacenvironment.net/jb2008/indices/DTCFILE.TXT' with cURL.\n",
      "[ Info: Downloading file 'fluxtable.txt' from 'ftp://ftp.seismo.nrcan.gc.ca/spaceweather/solar_flux/daily_flux_values/fluxtable.txt' with cURL.\n",
      "[ Info: Downloading file 'SOLFSMY.TXT' from 'http://sol.spacenvironment.net/jb2008/indices/SOLFSMY.TXT' with cURL.\n",
      "[ Info: Downloading file 'kp2023.wdc' from 'ftp://ftp.gfz-potsdam.de/pub/home/obs/kp-ap/wdc/yearly/kp2023.wdc' with cURL.\n"
     ]
    }
   ],
   "source": [
    "%load_ext julia.magic\n",
    "%julia using Dates;\n",
    "%julia using DataFrames;\n",
    "%julia using ProgressBars;\n",
    "%julia using SatelliteToolbox;\n",
    "# %julia cd(\"C://Users//soumy//OneDrive - The University of Texas at Dallas//Documents//MURI_Project_1//src//SatelliteToolbox.jl-master//src//\")\n",
    "# %julia include(\"SatelliteToolbox.jl\");\n",
    "%julia SatelliteToolbox.init_space_indices();"
   ]
  },
  {
   "cell_type": "code",
   "execution_count": 4,
   "id": "b2a07a36-802e-44b3-a688-04173a145385",
   "metadata": {},
   "outputs": [],
   "source": [
    "# filepath = \"C:\\\\Users\\\\soumy\\\\OneDrive - The University of Texas at Dallas\\\\Documents\\\\MURI Project\\\\Data\\\\Temp\\\\\"\n",
    "# os.chdir(filepath)\n",
    "# filename = \"GITM_epoch_2_min_june_2015.csv\"\n",
    "# gitm_epoch = pd.read_csv(filename)\n",
    "# gitm_epoch.index = pd.DatetimeIndex(gitm_epoch[\"Unnamed: 0\"])\n",
    "# del gitm_epoch[\"Unnamed: 0\"]\n",
    "# gitm_epochs = gitm_epoch.index"
   ]
  },
  {
   "cell_type": "code",
   "execution_count": 3,
   "id": "2fc60294-162a-4f4a-bae8-8b0134267a95",
   "metadata": {},
   "outputs": [],
   "source": [
    "# filepath = 'C:\\\\Users\\\\soumy\\\\OneDrive - The University of Texas at Dallas\\\\Documents\\\\MURI Project\\\\Data\\\\Temp\\\\';\n",
    "# os.chdir(filepath)\n",
    "# filename = 'GRACEA_NEUTRAL_08_2005.csv'\n",
    "# GRACE_Data = pd.read_csv(filename)\n",
    "# GRACE_Data.index = pd.DatetimeIndex(GRACE_Data['Unnamed: 0'])"
   ]
  },
  {
   "cell_type": "code",
   "execution_count": 10,
   "id": "ef040a00-2ee8-46a4-8bca-541ea473c295",
   "metadata": {},
   "outputs": [],
   "source": [
    "# filepath = 'C:\\\\Users\\\\soumy\\\\OneDrive - The University of Texas at Dallas\\\\Documents\\\\MURI_Project_1\\\\Data\\\\Temp\\\\'\n",
    "filepath = '/Users/user/OneDrive - The University of Texas at Dallas/Documents/MURI_Project_1/Data/Temp/'\n",
    "\n",
    "os.chdir(filepath)\n",
    "filename = sat + '_Mehta_' + start.strftime(\"%Y-%m-%d\") +'.csv'\n",
    "GRACE_Data = pd.read_csv(filename) \n",
    "GRACE_Data.index = pd.DatetimeIndex(GRACE_Data['Unnamed: 0'])\n",
    "GRACE_Data = GRACE_Data.drop('Unnamed: 0',axis=1)\n",
    "# GRACE_Data = GRACE_Data.iloc[np.arange(0,len(GRACE_Data),12),:]\n",
    "N = len(GRACE_Data)"
   ]
  },
  {
   "cell_type": "code",
   "execution_count": null,
   "id": "c1333268-109a-49eb-985d-3f193af9bf49",
   "metadata": {},
   "outputs": [],
   "source": []
  },
  {
   "cell_type": "code",
   "execution_count": 5,
   "id": "8dc85ebe-e04e-4331-b5ca-64c4ce61c668",
   "metadata": {},
   "outputs": [],
   "source": [
    "# filepath = 'C:\\\\Users\\\\soumy\\\\OneDrive - The University of Texas at Dallas\\\\Documents\\\\MURI_Project_1\\\\Data\\\\SPDF\\\\'\n",
    "filepath = '/Users/user/OneDrive - The University of Texas at Dallas/Documents/MURI_Project_1/Data/SPDF/'\n",
    "os.chdir(filepath)\n",
    "\n",
    "filename = 'grace1_20230127171244_94750.cdf';\n",
    "cdf = pycdf.CDF(filename)\n",
    "time_array = pd.DatetimeIndex(cdf['Epoch'])\n",
    "latlon = pd.DataFrame({'lat':np.array(cdf['GEO_LAT']),'lon':np.array(cdf['GEO_LON'])},index = time_array)\n",
    "XYZ_GEO = pd.DataFrame(cdf['XYZ_GEO'],columns = ['X','Y','Z'],index = time_array)\n",
    "RADIUS = pd.DataFrame({'Radius' : list(cdf['RADIUS'])},index = time_array)\n",
    "# RADIUS_int = RADIUS.resample('10S').interpolate(method = 'spline',order = 3)"
   ]
  },
  {
   "cell_type": "code",
   "execution_count": null,
   "id": "e9791b60-3441-4800-a8fc-941bbe42c762",
   "metadata": {},
   "outputs": [],
   "source": [
    "# filepath = \"C:\\\\Users\\\\soumy\\\\OneDrive - The University of Texas at Dallas\\\\Documents\\\\MURI Project_1\\\\Data\\\\Temp\\\\\"\n",
    "# # filepath = '/Users/user/OneDrive - The University of Texas at Dallas/Documents/MURI Project/Data/Temp/'\n",
    "# os.chdir(filepath)\n",
    "\n",
    "# filename = 'CNOFS_june_2015.csv'\n",
    "# Data = pd.read_csv(filename)\n",
    "# Data.index = pd.DatetimeIndex(Data['Unnamed: 0'])\n",
    "# CNOFS_Data = Data.drop('Unnamed: 0',axis=1)"
   ]
  },
  {
   "cell_type": "code",
   "execution_count": 6,
   "id": "e6afa82a-d04d-4e9c-a911-4e9a8669d491",
   "metadata": {},
   "outputs": [],
   "source": [
    "# filepath = 'C:\\\\Users\\\\soumy\\\\OneDrive - The University of Texas at Dallas\\\\Documents\\\\MURI_Project_1\\\\Data\\\\TLE\\\\'\n",
    "filepath = '/Users/user/OneDrive - The University of Texas at Dallas/Documents/MURI_Project_1/Data/TLE/'\n",
    "os.chdir(filepath)\n",
    "filename = 'grace11.txt'\n",
    "f = open(filename, 'r')\n",
    "Data = f.readlines()\n",
    "f.close()"
   ]
  },
  {
   "cell_type": "code",
   "execution_count": 7,
   "id": "e54e25de-7e28-4f8c-86c2-9569c3016956",
   "metadata": {},
   "outputs": [],
   "source": [
    "epochs = []\n",
    "for i in range(int(len(Data)/2)):\n",
    "    tle_str = 'GRACE\\n' + Data[2*i] + Data[2*i + 1]\n",
    "    tle_str = tle_str.strip().splitlines()\n",
    "    tle = TLE.from_lines(*tle_str)\n",
    "    epochs.append(dt.datetime(tle.epoch_year,1,1,0,0,0) + dt.timedelta(days = tle.epoch_day - 1))\n",
    "\n",
    "epochs = pd.DatetimeIndex(epochs)\n",
    "idx0 = np.where(epochs <= start)[0][-1]\n",
    "idx1 = np.where(epochs >= stop)[0][0]\n",
    "idx = range(idx0,idx1)\n"
   ]
  },
  {
   "cell_type": "code",
   "execution_count": null,
   "id": "3935f5ef-704c-427a-81f5-3703ee629488",
   "metadata": {},
   "outputs": [],
   "source": []
  },
  {
   "cell_type": "code",
   "execution_count": null,
   "id": "fa3cc72e-deae-4c84-8e03-254848dde055",
   "metadata": {},
   "outputs": [],
   "source": []
  },
  {
   "cell_type": "markdown",
   "id": "191c8097-3b32-4e6d-b0f8-80651a13ae57",
   "metadata": {},
   "source": [
    "## Regular propagation"
   ]
  },
  {
   "cell_type": "code",
   "execution_count": 12,
   "id": "9af99df0-dbc4-4877-ba6c-5bceac2f728d",
   "metadata": {},
   "outputs": [
    {
     "name": "stderr",
     "output_type": "stream",
     "text": [
      "100%|███████████████████████████████████████████| 53/53 [00:15<00:00,  3.34it/s]\n"
     ]
    }
   ],
   "source": [
    "time_array = []\n",
    "%julia r = []; v=[]; param = [];\n",
    "for idx0 in tqdm(idx):\n",
    "    tle_start = epochs[idx0]\n",
    "    tle_stop = epochs[idx0 + 1]\n",
    "    T = np.array((GRACE_Data.loc[tle_start:tle_stop].index - tle_start)/dt.timedelta(seconds=1))\n",
    "    s1 = Data[2*idx0]; #s1 = s1[:54]+\"00000-4\"+s1[61:];\n",
    "    s2=Data[2*idx0+1];\n",
    "    # DT = (stop - start)/dt.timedelta(seconds =1)\n",
    "    # T = np.arange(0,DT,5)\n",
    "    for t in T:\n",
    "        time_array.append(tle_start + dt.timedelta(seconds= float(t)))\n",
    "    %julia tle_str = \"GRACE\\n\"*$s1*$s2;\n",
    "    %julia tle = SatelliteToolbox.read_tle_from_string(tle_str)\n",
    "    %julia orbp = SatelliteToolbox.init_orbit_propagator(Val(:sgp4),tle[1]);\n",
    "    %julia T = $T\n",
    "    %julia for t in T; r0,v0 = SatelliteToolbox.propagate!(orbp,t); push!(r,r0); push!(v,v0);push!(param,[orbp.sgp4d.a_k,orbp.sgp4d.e_k,orbp.sgp4d.i_k,orbp.sgp4d.Ω_k, orbp.sgp4d.ω_k,orbp.sgp4d.M_k,orbp.sgp4d.n_k,orbp.sgp4d.bstar]); end;\n",
    "r = %julia r\n",
    "v = %julia v\n",
    "param = %julia param \n",
    "time_array = pd.DatetimeIndex(time_array)\n"
   ]
  },
  {
   "cell_type": "code",
   "execution_count": null,
   "id": "f7ea1f83-0bc9-4fa7-81ce-d54dfd37aadd",
   "metadata": {},
   "outputs": [],
   "source": []
  },
  {
   "cell_type": "markdown",
   "id": "17f54449-f805-4d1e-a855-c38034b57636",
   "metadata": {},
   "source": [
    "## propagation from a single TLE"
   ]
  },
  {
   "cell_type": "code",
   "execution_count": 52,
   "id": "2b6d98c1-22f9-46c1-ba2f-5fd88bd064a3",
   "metadata": {},
   "outputs": [
    {
     "name": "stderr",
     "output_type": "stream",
     "text": [
      "WARNING: replacing module SatelliteToolbox.\n",
      "0.0%┣                                           ┫ 0/10.1k [00:00<-8:-24, -0s/it]\n",
      "0.0%┣                                        ┫ 1/10.1k [00:00<Inf:Inf, InfGs/it]\n",
      "100.0%┣███████████████████████████████████┫ 10.1k/10.1k [00:00<00:00, 63.6kit/s]"
     ]
    }
   ],
   "source": [
    "idx0 = idx[0]\n",
    "tle_start=epochs[idx0]\n",
    "T = np.array([(t-tle_start)/dt.timedelta(seconds=1) for t in GRACE_Data.index])\n",
    "s1 = Data[2*idx0]; \n",
    "# s1 = s1[:54]+'00000-0'+s1[61:]\n",
    "s2=Data[2*idx0+1];\n",
    "%julia r=[]; v=[]; param=[];\n",
    "%julia tle_str=\"GRACE\\n\"*$s1*$s2;\n",
    "%julia tle = SatelliteToolbox.read_tle_from_string(tle_str);\n",
    "%julia orbp = SatelliteToolbox.init_orbit_propagator(Val(:sgp4),tle[1]);\n",
    "%julia T = $T;\n",
    "%julia for t in ProgressBar(T); r0,v0 = SatelliteToolbox.propagate!(orbp,t); push!(r,r0); push!(v,v0);push!(param,[orbp.sgp4d.a_k,orbp.sgp4d.e_k,orbp.sgp4d.i_k,orbp.sgp4d.Ω_k, orbp.sgp4d.ω_k,orbp.sgp4d.M_k,orbp.sgp4d.n_k,orbp.sgp4d.bstar]); end;\n",
    "r=%julia r\n",
    "v=%julia v\n",
    "param=%julia param\n",
    "time_array = GRACE_Data.index"
   ]
  },
  {
   "cell_type": "code",
   "execution_count": 22,
   "id": "05ded1c2-b9c6-4a78-af1f-8ea2477e0913",
   "metadata": {},
   "outputs": [
    {
     "name": "stderr",
     "output_type": "stream",
     "text": [
      "[ Info: Downloading file 'EOP_IAU1980.TXT' from 'https://datacenter.iers.org/data/csv/finals.all.csv' with cURL.\n"
     ]
    }
   ],
   "source": [
    "# %julia time_array = $time_array;\n",
    "# %julia eop_IAU1980 = get_iers_eop(Val(:IAU1980); force_download = false);\n",
    "# %julia lla = []; for i in 1:length(r); mat =r_eci_to_ecef(DCM, TEME(), ITRF(), datetime2julian(time_array[i]),eop_IAU1980); push!(lla,ecef_to_geodetic(*(mat,r[i])));  end;\n",
    "# lla = %julia lla\n",
    "# lla = pd.DataFrame(lla,columns = ['lat','lon','alt'],index= time_array);"
   ]
  },
  {
   "cell_type": "code",
   "execution_count": 13,
   "id": "aa3b5a5a-cb15-4df2-997f-bde02c0564ed",
   "metadata": {},
   "outputs": [],
   "source": [
    "semi_major_axis = [param[i][0] for i in range(len(param))];\n",
    "ecc = [param[i][1] for i in range(len(param))];\n",
    "inc = [param[i][2] for i in range(len(param))];\n",
    "raan = [param[i][3] for i in range(len(param))];\n",
    "argp = [param[i][4] for i in range(len(param))];\n",
    "mean_ano = [param[i][5] for i in range(len(param))]; \n",
    "mean_motion = [param[i][6] for i in range(len(param))];\n",
    "bstar = [param[i][7] for i in range(len(param))];\n",
    "X = [r[i][0] for i in range(len(param))];\n",
    "Y = [r[i][1] for i in range(len(param))];\n",
    "Z = [r[i][2] for i in range(len(param))];\n",
    "Vx = [v[i][0] for i in range(len(param))];\n",
    "Vy = [v[i][1] for i in range(len(param))];\n",
    "Vz = [v[i][2] for i in range(len(param))];\n"
   ]
  },
  {
   "cell_type": "code",
   "execution_count": null,
   "id": "f67d6693-4327-42b6-81fa-11fe4f5f5e55",
   "metadata": {},
   "outputs": [],
   "source": []
  },
  {
   "cell_type": "code",
   "execution_count": 14,
   "id": "bd273fb4-148e-40cd-b80d-6683d8a22614",
   "metadata": {
    "tags": []
   },
   "outputs": [
    {
     "name": "stderr",
     "output_type": "stream",
     "text": [
      "100%|█████████████████████████████████████| 44566/44566 [08:51<00:00, 83.78it/s]\n"
     ]
    }
   ],
   "source": [
    "lat = [];lon = [];alt = [];\n",
    "for i in tqdm(range(N)):\n",
    "    t = Time(time_array[i],format = 'datetime')\n",
    "    teme_p = (r[i][0],r[i][1],r[i][2])\n",
    "    teme_v = (v[i][0],v[i][1],v[i][2])\n",
    "    teme_p = CartesianRepresentation(teme_p * u.m)\n",
    "    teme_v = CartesianDifferential(teme_v *u.m/u.s)\n",
    "    teme = TEME(teme_p.with_differentials(teme_v),obstime = t)\n",
    "    itrs = teme.transform_to(ITRS(obstime = t))\n",
    "    location = itrs.earth_location\n",
    "    loc = location.to_geodetic()\n",
    "    lat.append(loc.lat.value)\n",
    "    lon.append(loc.lon.value)\n",
    "    alt.append(loc.height.value)\n"
   ]
  },
  {
   "cell_type": "code",
   "execution_count": 24,
   "id": "52f46208-bd19-4027-931e-177c96391bd7",
   "metadata": {},
   "outputs": [],
   "source": [
    "df_in = pd.DataFrame({\n",
    "                    \"lat\":lat,\n",
    "                   \"lon\":lon,\n",
    "                   \"alt\":alt,\n",
    "                   \"semi_major_axis\":semi_major_axis,\n",
    "                  \"ecc\":ecc,\n",
    "                  \"inc\":inc,\n",
    "                  \"raan\":raan,\n",
    "                  \"argp\":argp,\n",
    "                  \"mean_ano\":mean_ano,\n",
    "                  \"mean_motion\":mean_motion,\n",
    "                  \"bstar\":bstar,\n",
    "                  \"X\":X,\"Y\":Y,\"Z\":Z,\n",
    "                      \"Vx\":Vx,\"Vy\":Vy,\"Vz\":Vz},index = time_array)\n",
    "\n",
    "df_in = df_in[(df_in.index >= start) & (df_in.index <= stop)]\n"
   ]
  },
  {
   "cell_type": "code",
   "execution_count": 26,
   "id": "6254978b-b4fc-4d55-9cc1-c05676dac438",
   "metadata": {},
   "outputs": [],
   "source": [
    "# filepath = \"C:\\\\Users\\\\soumy\\\\OneDrive - The University of Texas at Dallas\\\\Documents\\\\MURI_Project_1\\\\Data\\\\Temp\\\\\"\n",
    "filepath = '/Users/user/OneDrive - The University of Texas at Dallas/Documents/MURI_Project_1/Data/Temp/'\n",
    "os.chdir(filepath)\n",
    "filename = \"SGP4_prop_reg_\"+sat + '_'+ start.strftime(\"%Y-%m-%d\") + \".csv\"\n",
    "df_in.to_csv(filename)"
   ]
  },
  {
   "cell_type": "code",
   "execution_count": 32,
   "id": "1c885f0e-4c60-420e-8e93-614a9e1ffd5f",
   "metadata": {},
   "outputs": [
    {
     "data": {
      "text/plain": [
       "[<matplotlib.lines.Line2D at 0x270986a6be0>]"
      ]
     },
     "execution_count": 32,
     "metadata": {},
     "output_type": "execute_result"
    },
    {
     "data": {
      "application/vnd.jupyter.widget-view+json": {
       "model_id": "267c77afe8a543c8853b00002e92bf29",
       "version_major": 2,
       "version_minor": 0
      },
      "image/png": "[encoded data removed]",
      "text/html": [
       "\n",
       "            <div style=\"display: inline-block;\">\n",
       "                <div class=\"jupyter-widgets widget-label\" style=\"text-align: center;\">\n",
       "                    Figure\n",
       "                </div>\n",
       "                <img src='data:image/png;base64,iVBORw0KGgoAAAANSUhEUgAAA+gAAAEsCAYAAABQRZlvAAAAOXRFWHRTb2Z0d2FyZQBNYXRwbG90bGliIHZlcnNpb24zLjUuMywgaHR0cHM6Ly9tYXRwbG90bGliLm9yZy/NK7nSAAAACXBIWXMAAA9hAAAPYQGoP6dpAABQp0lEQVR4nO3dd5xU1f3/8fe9s5WyCwu4BZbei1SlaQRBERDFlmgUkZ+JX79qNF81CrEbDRhjNIn9q2KJX42JgAXEIB0EpC2dhaWXpcMuS9ky9/z+mN2BZXuduzuv5+MxD9y5d879zEnOzr7n3HuuZYwxAgAAAAAAAWUHugAAAAAAAEBABwAAAADAFQjoAAAAAAC4AAEdAAAAAAAXIKADAAAAAOACBHQAAAAAAFyAgA4AAAAAgAsQ0AEAAAAAcAECOgAAAAAALkBABwAAAADABQjoAAAAAAC4AAEdAAAAAAAXIKADAAAAAOACBHQAAAAAAFyAgA4AAAAAgAsQ0AEAAAAAcAECOgAAAAAALkBABwAAAADABQjoAAAAAAC4AAEdAAAAAAAXIKADAAAAAOACBPQgtmDBAo0aNUoJCQmyLEvTpk2r0uM9++yzsiwr36Njx47lbu/s2bO666671K1bN4WEhGj06NGlet2xY8d0++23KyoqSg0aNNDdd9+tjIyMYuu0LEt169b17zNlyhT16dNHDRo0UN26ddWjRw998skn5X4vAAAAAEBAD2KnTp1S9+7d9cYbb1TbMbt06aLU1FT/Y9GiRcXub1mWdu7cWeg2r9eryMhIPfjggxo6dGipa7j99tu1YcMGzZo1S99++60WLFige+65x7/90UcfzVdjamqqOnfurFtuucW/T0xMjJ544gktWbJEa9eu1bhx4zRu3Dh9//33pa4DAAAAAM4XEugCEDjDhw/X8OHDi9yemZmpJ554Qp999plOnDihrl276qWXXtKgQYPKfcyQkBDFxcWV+/Xnq1u3rt566y1J0uLFi3XixIkSX7Np0ybNnDlTy5cvV58+fSRJf//73zVixAj9+c9/VkJCgurVq6d69er5X7NmzRpt3LhRb7/9tv+5C/vgoYce0kcffaRFixZp2LBhFX9zAAAAAIIOM+go0gMPPKAlS5bo888/19q1a3XLLbfommuu0datW8vd5tatW5WQkKDWrVvr9ttv1+7duyux4pItWbJEDRo08IdzSRo6dKhs29ayZcsKfc17772n9u3b6/LLLy90uzFGs2fPVnJysn72s59VSd0AAAAAaj9m0FGo3bt3a/Lkydq9e7cSEhIk+U79njlzpiZPnqw//vGPZW6zb9+++vDDD9WhQwelpqbqueee0+WXX67169erfv36lf0WCnXgwAFddNFF+Z4LCQlRTEyMDhw4UGD/s2fP6tNPP9X48eMLbEtLS1PTpk2VmZkpj8ejN998U1dddVWV1Q4AAACgdiOgo1Dr1q2T1+tV+/bt8z2fmZmpRo0aSZI2b96sTp06FdvO448/rkmTJklSvtPpL774YvXt21ctWrTQF198obvvvtu/z8KFC/O10aVLF1mWJUlq0aKFNmzYULE3VwZTp07VyZMnNXbs2ALb6tevr6SkJGVkZGj27Nl6+OGH1bp16wpdAgAAAAAgeBHQUaiMjAx5PB6tXLlSHo8n37a867Nbt26tTZs2FdtOXpgvTIMGDdS+fXulpKT4n3vvvfd05swZ/8/t2rXTjBkz1LRpU0lSaGhomd/L+eLi4nTo0KF8z+Xk5OjYsWOFXhv/3nvv6dprr1VsbGyBbbZtq23btpKkHj16aNOmTZo4cSIBHQAAAEC5ENBRqJ49e8rr9erQoUNFXnsdFhZWodukZWRkaNu2bRozZoz/ubwgfr4WLVqoZcuW5T7O+fr3768TJ05o5cqV6t27tyRpzpw5chxHffv2zbfvjh07NHfuXH399delattxHGVmZlZKnQAAAACCDwE9iGVkZOSbvd6xY4eSkpIUExOj9u3b6/bbb9edd96pV155RT179tThw4c1e/ZsXXzxxRo5cmSZj/foo49q1KhRatGihfbv369nnnlGHo9Ht912W7nfw8aNG5WVlaVjx47p5MmTSkpKkuSb0Zakn376SXfeeadmz56tpk2bqlOnTrrmmmv061//Wm+//bays7P1wAMP6NZbb/Vfa5/ngw8+UHx8fKEr3U+cOFF9+vRRmzZtlJmZqRkzZuiTTz7xryoPAAAAAGVFQA9iK1as0ODBg/0/P/zww5KksWPH6sMPP9TkyZP1wgsv6JFHHtG+ffvUuHFj9evXT9dee225jrd3717ddtttOnr0qJo0aaLLLrtMS5cuVZMmTcr9HkaMGKFdu3b5f+7Zs6ck38rqknT69GklJycrOzvbv8+nn36qBx54QEOGDJFt27rpppv0t7/9LV+7juPoww8/1F133VXgFH/Jdw/5++67T3v37lVkZKQ6duyof/zjH/rFL35R7vcCAAAAILhZJi/JAAAAAACAgOE+6AAAAAAAuAABHQAAAAAAF+Aa9CDjOI7279+v+vXr++8tDgAAACD4GGN08uRJJSQkyLaZu3UDAnqQ2b9/vxITEwNdBgAAAACX2LNnj5o1axboMiACetCpX7++JN8gjIqKCnA1AAAAAAIlPT1diYmJ/oyAwCOgB5m809qjoqII6AAAAAC49NVFuNAAAAAAAAAXIKADAAAAAOACBHQAAAAAAFyAgO4iCxYs0KhRo5SQkCDLsjRt2rQi97333ntlWZZee+21aqsPAAAAAFB1COgucurUKXXv3l1vvPFGsftNnTpVS5cuVUJCQjVVBgAAAACoaqzi7iLDhw/X8OHDi91n3759+s1vfqPvv/9eI0eOrKbKqka/F2fpwMmsSm9356Sa3S8AAAAAghMz6DWI4zgaM2aMfve736lLly6lek1mZqbS09PzPdyg5fjpVRLO89oGAAAAgJqGgF6DvPTSSwoJCdGDDz5Y6tdMnDhR0dHR/kdiYmIVVlg6/V6cJUkabi/TdfZi1dWZSj8GIR0AAABATcMp7jXEypUr9de//lWrVq2SZVmlft2ECRP08MMP+39OT08PeEjPmzl/MGSKOtl7dNaEap7TQ9O9fTXb6aXTighofQAAAAAQCAT0GmLhwoU6dOiQmjdv7n/O6/XqkUce0WuvvaadO3cW+rrw8HCFh4dXU5WlE1c/TIdPntEPTm9FKEut7IO6xrNc13iW64wJ01ynh7719tNcp4fOENYBAAAABAnLGGMCXQQKsixLU6dO1ejRoyVJR48eVWpqar59hg0bpjFjxmjcuHHq0KFDqdpNT09XdHS00tLSFBUVVdlll9q5U9CNOlu7NNKzVCPtZWppH/Tvc9qEa47TU996+2me011nVfovGlgoDgAAACieW7IBzmEG3UUyMjKUkpLi/3nHjh1KSkpSTEyMmjdvrkaNGuXbPzQ0VHFxcaUO526yc9JI/yruG01LbcxpqZf1C3Wxdupaz1KNtJequX1Y13qW6lrPUp0y4Zrt9NL03LCeqbBi2wYAAACAmoaA7iIrVqzQ4MGD/T/nXTs+duxYffjhhwGqquosfeKqIrY8IBkj7V8tbZgqbZimumm7dZ1nia7zLJHC6kkdhktdbpDaDJFCI9T1me+VkZmjeY8Oqs63AAAAAACVhlPcg0yNPI3FGGnfKmnDFGnDNCl977ltYfWljiP0m7Ut9P3ZLvrukaFq06RewEoFAAAAaooamQ1qOQJ6kKnxg9BxpH0rfTPrG6dJ6fv8m7Y58bo660/yylNlh29SN1TLn7q6ytoHAAAAqkuNzwa1EPdBR81i21LiJdI1f5R+u176f//RBznXyDGW2tipaqy0Kj384VPZ3GMdAAAAQJXgGnTUXLattm8eUY7u1E2eBYrWaTW1juigicm3WwvrgO72fKdVTjv94PRShupU+NBVEdJZ3A4AAAAIbsygo0bLyf33qPGdkvPvsOf0j9AXNdpepEidlSTd4flBd4bM0mthb2pl+H/rndC/6Dr7R9XVmVIf5yp7hUbaS9VQ6ZX9FvyYmQcAAACCG9egB5nadp1J2/HTlSOpn71RD3qmaIBno39bhonQdG8/xVtH9TPPugKvPWtCNcfpqenefprj9NAZRRR+DGuvfgh/TJLkGEsbTAstdrppodNVK5wOGmav0M2e+dpoWmqp01ErnA4VmqVnJh0AAADVobZlg9qAgB5kauMgPH/muZl1WDfYC3WzZ4Fa2Ify7fdazo36znup797q9hK1sg/6t5024Zrj9NS3ufdZP6tw/7ZLrU36IvwPhR77rAlVhJWd7zmvsbTBtNRPTkctczrpJ6ej0lT6leUJ6AAAAKgOtTEb1HQE9CBTWwdh3kz6OUaXWMm62bNAIz1LVc86q8ezf61/egf7t3e2dulaz1KNtJfmC/OnTLh+cHprurev5jvd1cPapn+G/0EpToJuy3pCA+0NusyzXpfZ6xRnHfe/bpOTqEhlqeV5wf/8bcucTv7AflTRRb4XAjoAAACqQ23NBjUZAT3IBOUgzDolHU6WEnpKllVwuzHS/tW+W7dtmCal7T63Lay+lp1tqr72Zm11muqqrJfPf6HaWPt1ub1OXtn6xHuVJEuxOqa+9mb1tTepr71Jbe39BQ6Z4iT4A/tCp6uOy/e/BeEcAAAA1SUos4HLEdCDDIOwBMacu8/6hqn57rO+xWmqq/MF9NJprDRdcl5g72Tvybf9qKmvAZl/V/KkGypcPgAAAFBaZAP3IaAHGQZhGTiOtHe5L6hv/V7qerN05RMVb/f0MWn3EmnnYnmXvCmPZTTw7F+1T00q3nYhmJUHAABAYcgG7sNt1oCi2LbUvK80fJL04OrKCeeSVCdG6jhSLecNVLrqSpIirKzKabsQ3L4NAAAAqBkI6EAAtJvgC81nFCZJ+l3IF7rOXqyYKrrPOiEdAAAAcL+QQBcABKPs3AtL1jptlOA5pms8y3WNZ7kcY2mdaaX5zsVa4L1Yq007eeUJbLEAAAAAqgUBHQiAUMsX0h/I/o0u8SbrCnutrrDXqJO9W92t7epub9eDIdOUbupokdNVC3ID+341DnTpAAAAAKoIi8QFGRaCcI/CTju/SMf1M48vrF9mr1dDKyPf9q1OU9/sunOxljmdlJl7inxJWCgOAAAAFyIbuA8BPcgwCN2l3YTp/tPdL2TL0cXWdv3MXqsrPGvUw0qRxzq381kTqmVOJ813umu+c7G2mQRJBe/zTjgHAABAYcgG7sMp7kAAbZ1YhvB8+pi0Y76U8oOUMkcRJ/frCs9aXeFZ69senSi1HSK1GaL/WR6tqZsy9IfRXaumcAAAAACVjhn0IMO3ZLWEMdKhTb6wvm22tOtHyXvuVm1e2frR21n7r/ybfjG4dwALBQAAgFuRDdyHGXSgJrIsKbaz7zHwQSnrlLRzsT+we46m6HLPes0/8qMkAjoAAABQExDQgdogrK7U/mrfQ9KGl4epy6mlsr2ZAS4MAAAAQGnZgS4AQOXLscMlSZaTHeBKAAAAAJQWAR2ohRwr9+QYJyewhQAAAAAoNU5xB2qh1Ixs9ZQ0f9N+3VHI/dYrw28Gt9EjwzpWSdsAAABAMGIGHahlWo6frpNZvqFdzzpbZcf5+9xt6vL0zCprHwAAAAg2BHSgFrl78k+SpNPyXYP+UMgUTQl7Wnd4ZilaGZV+vFNZXr3y/eZKbxcAAAAIRgR0oBZZsv2oJOlD7zDN9XaX11jqZafohdDJWh7+33or9FVdbS9XqCrv2vTvNxyotLYAAACAYMY16EAt0r91I81OPqxdJk7jsh9XE53QdZ7FutGzSF3sXRruWa7hnuU6ZurpG29/TfFerjWmjSSr3Mcc1iWu8t4AAAAAEMQsY4wJdBGoPunp6YqOjlZaWpqioqICXQ6qQMsiFoXraO3WDZ6FGu1ZrFjrhP/5bU68pngv1zTvQO1TkzIdq26YRxuev6Yi5QIAACBAyAbuQ0APMgzC4HD35J80O/lwodtsORpor9eNnoW6xl6uSCvLv22Jt7OmOJfpO++lylCdYo/BKu4AAAA1G9nAfQjoQYZBiHwyT0obv5bWfCbtXCQp99dBSKTUcaTU/Tap9SDJ47sa5ovle/TYl2s1pONFev+uSwJWNgAAACqObOA+BPQgwyBEkU7skdZ9Ia35XDqy5dzz9WKlbrdI3W/Tl/sa6JF/rSm2mffH9taQTlyXDgAA4HZkA/choAcZBiFKZIy0f5UvqK/7t3TmmH/TJqe5vvRerq+8A3RYDau0jJ2TRlZp+wAAAMGObOA+BPQgwyBEmeRkSSk/SGs+U+bGGQq3fLdn8xpLC52LNcV7uf7j9NZZhStKp5SuOqrIivAXIqQDAABUHbKB+xDQgwyDEOXVffw/da1nqW7wLFIf+9wp8CdNpIwsRVmntcu5SNOcgfraO0DbTNNKOS4hHQAAoGqQDdyH+6ADKJU01dOn3qH61DtULa1U3eBZrBvshWpun1stvoV9SA/ZU/VQyFStd1pqmnegvvX20wE1CmDlAAAAQM3ADHqQ4VsyVETBe6wb9bGSdaNnoQZ71mix01UNdVI/s9cq1PJKkhxjaZnTSV85A/Sd91KlqV71F56L2XgAAIBzyAbuQ0APMgxCVFTBkF5QQ6VrhOcnXef5UX3tzf7ns4xH853u+to7QD84vXRGEfleF6mz6mTtVrJJ1ClFVnrtEiEdAAAgD9nAfQjoQYZBiKpSVHBP0BGN8izR9Z4f1dne5X/+lAnXf5w++so7QIucbspRiJ4M+US/CvlOkjTX212znD6a5e2lrvZO/dIzW+uc1prndNc600pGdrlrJaQDAACQDdyIgB5kGIQIqEObfLduW/cv6cS5sH5c9fVtTl/1sFPUzd5ZYjNHTX0tcC7WfG93LXAu1jGV7f/LBHQAAACygRsR0IMMgxCuYIy0d4UvqG+YIp06nG/z/+aM0HFTX1d5VqqnneJ/3rdivBRlnfE/5xhL60wrzXcu1jxvD60xbeSVp9jDE9ABAADIBm5EQA8yDEK4jjdH2jFf//7oNQ2zl6u+dUa3ZT2hJU4XSVITHddQzyrV0VlN9g6XLUe9rK26wrNGV9hr1fWCGfcTpq4WOd1yA3t3HVbDfNsJ5wAAAD5kA/choAcZBiHc7H8+/lHLN23RXtOk1K9pouP6mb1OgzxJutxepwbWqXzbNzot9JV3gN7xXqudk66t7JIBAABqLLKB+xDQXWTBggV6+eWXtXLlSqWmpmrq1KkaPXq0f/uzzz6rzz//XHv27FFYWJh69+6tF198UX379i31MRiEqNUcr7RvpZTyg7R1lrR/tSTfr7grM/+s7SahxCaYYQcAAMGCbOA+5V8GGZXu1KlT6t69u954441Ct7dv316vv/661q1bp0WLFqlly5a6+uqrdfjw4UL3B4KO7ZESL5UG/166Z656nX1L+0wjSVIba3+pmijNbeQAAACAqsAMuktZllVgBv1Ced94/fDDDxoyZEip2uVbMgSLrk/PUEaW0Zdhz6i3vVWSlOw00yynt2Z5e2utaV3srdqYSQcAALUd2cB9QgJdAMonKytL7777rqKjo9W9e/dAlwO4TkaW77vHSdm36bchX6qvvUkd7L3qYO/VAyFf6YBpqB+8vTTL6aMlTmdlKTTAFQMAACDYEdBrmG+//Va33nqrTp8+rfj4eM2aNUuNGzcucv/MzExlZmb6f05PT6+OMoGAqxdmKSPLaLnpqNuzn1CUMjTYTtJVnpUaZK9RnHVcd4TM1h2arZMmUl94B+kPOWP8ry/vqe7MvAMAAKC8uAa9hhk8eLCSkpL0448/6pprrtHPf/5zHTp0qMj9J06cqOjoaP8jMTGxGqsFAmf98yPy/ZyuevrKuUwPZD+kXpnvaGzW4/pHzhAdNA1U3zqju0O+U4wq/gUW17ADAACgvAjoNUzdunXVtm1b9evXT++//75CQkL0/vvvF7n/hAkTlJaW5n/s2bOnGqsFAmvnpJGqF2YVeD5LoZrvdNeTOXerX+brSjd1JEl3hcxUgo5U+LiEdAAAAJQHp7jXcI7j5DuF/ULh4eEKDw+vxooAd7lwJv18LcdPl5GtLaaZ+lhb9GDIND0YMk0rnPb6xttfM7x9dVgNqq9YAAAABDUCuotkZGQoJSXF//OOHTuUlJSkmJgYNWrUSC+++KKuu+46xcfH68iRI3rjjTe0b98+3XLLLQGsGqi5QiTlSBqX9Ziu8/yoUZ4lutTarD72FvWxt+jpkI+1xOmsb5wBmum9RGmqF+iSAQAAUItxmzUXmTdvngYPHlzg+bFjx+rtt9/WL3/5Sy1btkxHjhxRo0aNdMkll+jJJ5/UJZdcUupjcCsFIL8LT0eP1TGN9CzTKM8S9bTPfWGWbTxa4Fysb7z9NcvprVOKLLJNFooDAAA1AdnAfQjoQYZBCBTUdvx05RTyfDPrkEbZSzXKs0Sd7V3+58+aUM1xeuobb3/NcXoqU2GlOk6TuqFa/tTVlVQ1AABAxZAN3IeAHmQYhEA5HU6W1k+R1v9bOnpuZj3DRGiW01tfen+mRU63UjXFDDsAAHADsoH7ENCDDIMQqCBjpAPrpPVf6thPnysm+4B/0wJvN73jvVZLnC5yirlJBjPpAADADcgG7kNADzIMQqDy9H7+ezU/s0n3h0zTUM9q//MHTQN95R2oad6B2mhaSCp4q7fyYvYdAABUFrKB+xDQgwyDEKg8j32RpC9W7ZMk9baSdYNnka71LFUD65R/ny1OU03zXqavvAO0T00q5biEdAAAUBnIBu5DQA8yDEKgcrWZMF3e836LhilbV9hrNNqzSEPt1Qq3sv3bljkd9ZV3oKZ7+1bJLdu+un+Auic2rPR2AQBA7UQ2cB8CepBhEAKV7/yZ9PNF6ZSu8fykG+zF6mtvkm35ft1mGY/mOT00zTtQs51epV4FvjRu6tVUr/y8R6W1BwAAai+ygfsQ0IMMgxCoPuffYz1eR3Wd50eN9ixWJ3u3//l0E6nvvZdomjOwyMXlXgh5X8M8y7XU6awfvL00z+lRJTPwZcFp9gAA1HxkA/choAcZBiFQvc4P6Xk6WLs12rNY13l+VFPrqP/5g6aBvvYO0DTvQG0wLZW3uNzq8HvU0Mrw7+c1llaYDprt7an5TnfFWCe1xzTRXnNREVUYxeq4jipKOQqptPdGSAcAoGYjG7gPAT3IMAiB6ldYSJckS44usZI12rNYIzzL8i0ul+IkaJp3oL5yBuibsCfVwDqlmd5L1MI6oE72nkLb2+I01Rynp+Z6e2qlaecP47d7ftCLoR8o04RqmdNRS53OWup00lrTusKBnZAOAEDNRTZwHwJ6kGEQAi6Vkyml/CCt/UJK/k7yZhbYZUjmy9pmmqqZdVhX2qs0xF6tKzxrC20u3dTRAudizfH20CDPGl3nWVJgn1MmXCucDv7Avs60KnNgJ6ADAFBzkQ3ch4AeZBiEQA1wNk3a9I0vrO9YIMn3a3rg2b8WuFVbXZ1Rc+uQDpqGGmiv12BPkgbZSYo575T4PNO9l2q501H97E3qa2/Kd9q8JGWYiNzA3klLnc5aZ1rJK0+xpRLQAQCoucgG7kNADzIMQqCGSU+VNkyVLFvq+1+SZeXbXNjp87Yc9bBSNNiTpCvt1epi75IkPZx1r6Y4P5PkO72+g7VX/eyNJQb2Jbkz7OtLEdglqU/zBvr3fQPL+44BAEA1IRu4DwE9yDAIgdqnqGvc88TqmJpaR7TGtCkyYOcF9v72Bn9gP/+aeEk6aSK1wOmm32Xfq9OKKLEuZtcBAHA3soH7ENCDDIMQQKk4jnRog7RzkRbNmqquOev9gf1rb389n32njii6Sksg4AMAULXIBu5DQA8yDEIAZdVq/HRJjqaEPauedor/+c1OopY4nfWj00XLnE5KV91KPzYhHQCAqkM2cB8CepBhEAIoqyF/nqttR04rTkf1q5AZGmBvVOfc69ovtM2J94f2pU5nHVPFf88Q0gEAqBpkA/choAcZBiGA8rjwOveGSlc/e5MG2Bs0wN6gNnZqoa/Lm2XPW2guXfUqpZ4wW9ryR4I7AAAVQTZwHwJ6kGEQAiivvJn0wsTqmPramxRuZauztUv97I3qZO/Jt49jLG00LfSj00VLnM5a7nRQhuoU0pqRZBXyfEHMrgMAUH5kA/choAcZBiGAqlDYSvIxSlc/e6P65z7a2vvzbc8xttabVv7AvsJpr0vsZL0V+poOmoZa4XTQCtNeK5wO2m7iVdrQXlGEfgBAsCAbuA8BPcgwCAFUlZJu99ZEx/1hvb+9US3tg/m2ZxmPwixvoa89auprpdNeKxxfYF9vWilLoZVWe1UKkZRC6AcAuBDZwH0I6EGGQQjANU7skXYulHYs9P2bdu6U+DVOay1yuqqPvUU9rG0Kt7LzvTTThGqNae2bZXfaa6XTXmmVdH17VWFmHgDgNmQD9yGgBxkGIQBXMkY6vlOPvfKGmlmH9UnO1TqsBpKkMGWrq7VDve0tusROVm97ixpZJws0scVp6g/sy00H7TEXqbSnxfeytmiwJ0k7nDhtMi20zSRU2ww9wR0AEChkA/choAcZBiEAtyvpVHnJqLWV6gvsli+wF7aK/CHTQMud9lrpdNByp4M2mebKUUihLX4b9nt1tXf6f842Hm0zCdpsErXJaaHNprk2Oc11SA1U2tAfoUw1ttK13zSSI7vYfQnpAIBAIBu4DwE9yDAIAdRUxQX3RkpTb3uLf5a9q7WjwPXsp024Vjtt/QvPrXba+leRnxv2P2plH1SW8ei0ItTAOlXocY6a+trsNPcF9tzQnmKaKlNh+fbzyKv54f+jZtYRZRmPdptY7TSx2mnitNPEaYeJ0xYn0X+WQEV0jK2nmf9zRYXbAQAEH7KB+xDQgwyDEEBNVvLsuk+4stTd2qY+uaG9j52saCv/LeK8xlKyaa7lTnuN8ixRjJWhGzOf1SrTTnE6pk72bnWydqtj7r+trf3yWAU/MnOMrR0mXptMc212fME91TTSzPDxxdaYY2yNyZ6gJU6X0ndAMZiFBwCUFdnAfQjoQYZBCCAoOY50JFnavUTavcz374ldBXa7IfM5rTbtCm0iXFlqa+07F9yt3epk71KMlVHsoS/PfFXNrUNqZR1Qy9zHUM9q//a3c65VimmqFKepUkxCEfeGLxkz6QCAsiIbuA8BPcgwCAEgV3qqtGfpucAeXl+640spJLz0bRgjnTwgHdwgHVyf+9ig7IPJCrW82uVcpCuyXtWF163f4ZmlF0InF9pkqolRipPgC+3nBfejiirQzvlsSduZRQcAlAHZwH0I6EGGQQgA1SAnU8Oe+kCpppHSVbeQHYz6WMnqaO9RO2uv2lr71dbep1jrRJFNHjf1tNU0VYqToG2mqbaaplridFF27sJ3zKADAMqKbOA+BPQgwyAEgMBq/8QMZXkL/+iN0im1tfapjb1f7ax9apv7aGYdkV3I9e//9v5Mj2bfK4lr0AEAZUc2cB8CepBhEAJA4D331XpNXlLwGviiRChTbaxUtbH2qa29T33tzeprb9Zqp61uyHq+2NcS3AEARSEbuA8BPcgwCAGg5rvj95P0j7CJ2uQkanjWSyXuT0gHABSGbOA+IYEuAAAAlF7L8dPV2/Lddz3ROqzfh3yqNU4brTFttNc0VmELyZX29nTnY9E5AACqHwEdAIAaZre5SJkmRPWss7on5Fz4PmKitMZpo6TcwL7GaaM01SvXMRz5gn15Z9/L86VAebx8czfd0qd5tRwLAICqxinuQYbTWACgZssLvgk6ov72RnW3t6m7vU2drF0Ks7wF9t/hxCrJtPXNsjtttNG0UKbCSn288syktxw/XR55ZckopxrmAprHRGrBY1dW+XEAoLYhG7gPAT3IMAgBoOYrbHY6XFnqbO3yB/bu1ja1tg8U2C/beLTJNM+daW+rJNNG2028jOxKqy9KGZod/qgaKkP7TGPtMrH5HonWYfW2k5VqGinVNNI+01j7c//7iKLKVQsz6QBQdmQD9yGgBxkGIQDUDqU5hTxaGbrY3q7u1jb1sFPU3d6mJlZ6gf3STaTWOa21xrTRcVNPySZRSU4bpZfz9Phe1hZNCX+2XK/NNCH+4L5fjbQv779NY/9/n1JkudquTCy8B6A2IBu4DwE9yDAIAaB2Kz64GzXVEf8sew97m7pZO1THyix0721OvNaY3GvanTbaZFooS6El1tDbStaX4c/pjAnT2KzH1cI+qBbWuUdL66CirNP6V87PFGllKcE6onjrmGJ1vND7vV8ozdTRHnORnskeq5WmQ4n7VxVCOoCajmzgPgT0IMMgBIDa7+JnvlN6plOqfT3yqp21L/e0+BT1slPU0d5T6L5ZxqONpoX/9Pg1po12mLgCp6T3sTbr3+HPa4cTq8FZrxbSUt6fHvlXnA9RjuKs44rXUSVYR5RgHcv992ju44iirdP5XrPTidU+09j/2K9G2muaaJ9prFTTSNlVfA08IR1ATUY2cB9WcQcAoJZZ+9zwMr+m1fjp+qcG+39uqHR1zz093jfbnqIYK0M9rO3qYW/XWM2SJKWbOlqTe3p8kuNbjC6PKeSWbz6FP5+jEO01TbRXTc5l+AvU1RkNstfojbC/SZJa2gfVUgcL3dcxlg4r+rwA30T7cq95z3tkqE4JPQMAQPVhBj3I8C0ZAKAoJZ0en2gdUo/cwN499/T4CCu7wJ4nTF01sE5puxOnK7P+IqnyZprzasybbW+qI2pqHVaCdVRNrSP5HoXVdqF0U0f7TGPtzZuBN41yg7zv55IWrWMGHUBNRjZwHwJ6kGEQAgCK02r89KImrwsIUY46WHv9q8Z3t7epvbXXfx35aqet7vb8UaueGVapNZbuHutGjZSuprmnyDe1DqtZbnDPC/MNrYwSW8k0odpvYvwz8OtMK/2fd4gc2YRzADUe2cB9COhBhkEIAKhSmSel/UnSoY1Sy8ul2M5VcpjShfTi1dFZJVhH/MHdF97P/XesjstTyKJ1t2Q+rX9NfKTCxweAQCMbuA/XoLvIggUL9PLLL2vlypVKTU3V1KlTNXr0aElSdna2nnzySc2YMUPbt29XdHS0hg4dqkmTJikhISGwhQMAkCe8vtTqct+jClXL7LU3W0rfL6XtkU7s0eFvnlYT7yH97oq4qj82ACAoFX1RFardqVOn1L17d73xxhsFtp0+fVqrVq3SU089pVWrVmnKlClKTk7WddddF4BKAQAIAp5QqWELqeVlUo/bdMzTxPe8U/K17QAAlAcz6C4yfPhwDR9e+Mq70dHRmjVrVr7nXn/9dV166aXavXu3mjdvXh0lAgAQtBzLI0kyXgI6AKBqMINeg6WlpcmyLDVo0CDQpQAAUOt5rdx5DW9OYAsBANRazKDXUGfPntXjjz+u2267rdgFHTIzM5WZmen/OT09vTrKAwCg1jl62ivZ0r+W79AvllZ8kbrCLJlwpeKjI6ukbQCA+zGDXgNlZ2fr5z//uYwxeuutt4rdd+LEiYqOjvY/EhMTq6lKAABqj5bjpyvL+E5xj9MxhahqZtH7T5yjfy7fXSVtAwDcj4Bew+SF8127dmnWrFkl3g5hwoQJSktL8z/27NlTTZUCAFA7XPHSbEnSWYVJkh4N/ZfWh9+tf4c9qydDPtEo+0c1sw5Jpb6DfPEe/3KdUtPOVEpbAICahVPca5C8cL5161bNnTtXjRo1KvE14eHhCg8Pr4bqAAConXYdPytJejfnWkXrlHrY2xRlnVYfa4v62Fv8+x0xUVrjtFGS00ZrjO/fdNUr1zF3HjnNqe4AEIQI6C6SkZGhlJQU/887duxQUlKSYmJiFB8fr5tvvlmrVq3St99+K6/XqwMHDkiSYmJiFBYWFqiyAQCo1Vo0jNCu42e1zrTWndkTZMlRK+uAelgp6m5vUw97mzpZu9TYStcQz2oN8az2v3a7E6ck09Yf3DeZFspSaInHbNm4TlW+JQCAS1nGmMo5HwsVNm/ePA0ePLjA82PHjtWzzz6rVq1aFfq6uXPnatCgQaU6Rnp6uqKjo5WWllbi6fEAAMCn5fjiF4ULV5Y6W7tyA3uKeljb1NI+WGC/TBOiTaaFVju5od200U4TJ8kqsYYwW9ryx5Flrn3In+dq25HTJe7Xp3kD/fu+gWVuH0DNRTZwHwJ6kGEQAgBQPle8NNt/untpNNBJ9bC3qbvlC+3d7W2KsTIK7HfC1NUqp51eyLlD201CZZZcZXZOKvsXBQDch2zgPgT0IMMgBAAgQIyRju+Q9q6U9q2U9q1Q5p4khVvZ/l3+njNaK512Wu20U1ru9etROqUo65T2miYqzUz7hX7t+Va/CZmmVBOjHSZeO0yctpt4bXfitcPE65jql6tdQjpQ85EN3IeAHmQYhAAAuEe78V/p157peiz0nwW2bXWaaoNpodGeHyX5FqFb7bT1PUw7rXVa65RKXkju32HP5lvM7kJppo62mwRtN3HakRvad5g47TBxOqOIYtsmpAM1G9nAfVgkDgAAIECyFaI3vddrhnOp+tqb1cdKVi97q9rYqWpn71M77fPv29hK11WeVbrKs0qS5BhLyaaZP7Cvdtpqm0mQueAuulbu7d/+L+dKbTHN1MpKVWsrVa3sA2pmHVG0dVo9rRT1VIrkyV/ffhOTG9rjtN0k6Eenizab5lXbKQAQxJhBDzJ8SwYAgLsUtgBdQ6Wrl71Vve2t6m5t03LTQfO93dXTTlFPe6t62ilqZh0p8Lp0E6kkp61WG99Me5LTVu+H/Vm97a26J+t/9B/nknz7hytLLa0DamUdUGsrVa3tVLWyfI/CrpfPNCG6JPMtpatuhd93RIi0+QVm4IFAIhu4DwE9yDAIAQBwn5JWiS9MEx3PDey+x8XWdtWxMgvs5zWWPJbRr7Me1iynT6nbb6CT/uDeyk7Vrz0zFG5la0jmy9pmmpa53qJwmjwQOGQD9yGgBxkGIQAANUtpw7tHXnWw9pwL7ZbvVPk8ozOf17SJD5W7/R/DH1CCdUwf51ylxbmnuu82FxU4pb6smEkHAods4D4E9CDDIAQAIIicPibtWyUZR2p3lWSVfbX2vABf2GJzp0y4tphEbXKaa5Nprs1OcyWbxDKfAs8sOhAYZAP3YZE4AACA2qpOjNRuaIWaCPdImV7p/qwHda1nqTpYe9TR3q0O1l7VtTJ9C8zZKfles9c01mYnUZtzQ/sm01w7TZy8F65CJ98MOgDAhxn0IMO3ZAAAoKwKOw3eI69aWgfUMTewd7R2q5O9u9DF6yQp04Rqi2mqzU5zTXEu1xKniyRmz4FAIhu4DwE9yDAIAQBAeXR4YroyvSXvF6VTam/tUUd7jzpZu/3hve55C9gdNA3UN/PNEttqUjdUy5+6uiJlAygG2cB9COhBhkEIAACqneNIJ3bq0Vfe1p9D31G28ahd5seSSndNPLPsQNUgG7hPxZbdBAAAAEpi22r5p0363uu7D3uo5dX/hPxbl9trVV+nS3z5JX/4T1VXCACuwLIcAAAAqBanFKHDJkpNrHQ9FDJVkuQYS8mmmVY57bXSaaeVpr12mVidP7t++FR2gCoGgOrFKe5BhtNYAABAIOQtNBevoxriWaXe9hb1traouX24wL5HTJRey7lJ//BeVeHjcno8UDSygfsQ0IMMgxAAAARKYavBN9Fx9bK3qre9Vb3tLepq7VC4laMdTqwGZ71aKcclpAOFIxu4DwE9yDAIAQBAIBUW0s/X3tqj/4Q/rhxja57TXUudzlrqdNJG01JOBZZPIqQDBZEN3Idr0AEAAFBtigvKLcdP104Tp21OvNrYqRrqWa2hntWSpHRTRz85HSotsAOAGzGDHmT4lgwAALhV3uy6LUedrZ3qZ29SP3ujLrU3K8o6k2/fdBOpn5yO5Q7szKgDZAM3IqAHGQYhAABws8JOgbflqJO1S/3sjepnb1Jfe7OirPy3Z0s3kVrudNRSp5OWOp210bSQV55ij0VIR7AjG7gPAT3IMAgBAIDblXSdemUGdkI6ghnZwH0I6EGGQQgAAGodxysdWKc/vPGu+tmb1dfeVCCwnzSRWu500NfeAZrmXFal5cREhmjVM8Oq9BhAZSAbuA8BPcgwCAEAQG3V9ekZysgyuTPsu/0z7JfamxR9XmAfePav2qcmVV4Ps/NwO7KB+xDQgwyDEAAA1GZFX8O+W9PDf+9/boG3mxY4F2uR002bTaIkq9JrYSYdbkc2cB8CepBhEAIAgNoubyb9Qrd5Zuu3IV8q1jqR7/nDJloLnW5a5O2qRU43HVLDSquFWXS4GdnAfQjoQYZBCAAAgk37309XlpP3k1F7a68ut9fpMnud+tqbVcfKzLd/stPMF9idblrmdNQZRZTruMygw+3IBu5DQA8yDEIAABCMiloZPkzZ6m1v0WX2Ol1mr1c3a4ds69yfx5kmRKuc9lrodNNCp5s2lOF+68yew+3IBu5DQA8yDEIAABCs8s+kF66BTmqgvUGX2et0uWedmllH8m0/buppsdPVf0p8YYvNMXOOmoJs4D4E9CDDIAQAACglY6Rj26Vtc6Rtc6WdC6XM9Pz7xLSR2lypnQ366tpvpKjoGP04YUhg6gXKiGzgPiGBLgAAAABwJcuSGrXxPS79teTNkfat9AX27XOlvSukY9ukY9vUUv+rpHBbH2bfLImADqB8COgAAABAaXhCpOZ9fY/BE6SzadLORdK2Ocra/B+Fndytq52Fga4SQA1WuhUuAAAAAOQXES11HCmNfEX7h/5dku+e6wBQXgR0AAAAoIIs2yNJ8sgb4EoA1GQEdAAAAKCC7NyAzgw6gIogoAMAAAAVZfuWdiKgA6gIAjoAAABQQVZuQPcYTnEHUH4EdAAAAKCCLNv3Z7WHGXQAFcBt1gAAAIAKsj2+P6stOWo5fnq1H3/npJHVfkwAlY8ZdAAAAKCCbvnf5ZKkkADNoAfiSwEAlY+ADgAAAFRAy/HT5Rjfn9V1rEy9GPK+Ols7A1IHgJqNgA4AAABU0AHFaJXTVpJ0e8hszQj/vaaGPa2bPfMVocwAVwegpiCgAwAAABXkyNaNWc/p1qwn9Y23n7KMRz3tFP059B0tC79fz4R8pLbW3kCXCcDlLGOMCXQRqD7p6emKjo5WWlqaoqKiAl0OAABArXDh6eWNlaZbPPN1m2e2mtuH/c8vczrq05yhmulcoiyFVmoNLBSHsiIbuA8BPcgwCAEAAKpGYdeAW3J0ub1Ot3tma4i9SiGWbxG5o6a+/uW9Qp95r9QuE1fhYxPOUR5kA/choLvIggUL9PLLL2vlypVKTU3V1KlTNXr0aP/2KVOm6O2339bKlSt17NgxrV69Wj169CjTMRiEAAAAAZK+X1r1ibTqIyl937nnWw+W+vw/qcNwyVO6WXVjjFpNmCFJWvnkUDWqF14VFaOWIxu4D9egu8ipU6fUvXt3vfHGG0Vuv+yyy/TSSy9Vc2UAAACosKgEadDj0kNrpVs/k9peJcmSts+VvhgjvdpFmvOCdGJPiU1ZluX/b4fpNqDWCAl0AThn+PDhGj58eJHbx4wZI0nauXNnNVUEAACASucJkTqO8D2O7/LNqK/6RMo4KC14WVr4itTuat+setuhku0ptBnLkoyRjEjoQG1BQK/lMjMzlZl57tYe6enpAawGAAAA+TRsIQ15WrpivJQ8XVrxgbRjgbRlpu8RnSj1Giv1GiPVz3+tuiX5ojn5HKg1OMW9lps4caKio6P9j8TExECXBAAAgAuFhEldbpDGfiM9sFLq/4AU2VBK2yPNfcF3+vs/x0jb5kqOb6G5vNPcyedA7UFAr+UmTJigtLQ0/2PPnpKvaQIAAEAANW4rDXtRenizdMO7UmI/ycmRNn0tfTJaer23tPivaiTfmZEs+QzUHpziXsuFh4crPJxVPQEAAGqc0Aip+y98j4MbpZWTpTWfS8e2S7Oe1qLQEH3ivUqOuTLQlQKoJMygAwAAAG4X21ka8bL0yGbpur9LCT0VZuXo7pDvpMyTga4OQCVhBt1FMjIylJKS4v95x44dSkpKUkxMjJo3b65jx45p9+7d2r9/vyQpOTlZkhQXF6e4uLhC2wQAAEAtElZX6nWn1ON26fkYSZJxsgNcFIDKwgy6i6xYsUI9e/ZUz549JUkPP/ywevbsqaefflqS9PXXX6tnz54aOXKkJOnWW29Vz5499fbbbwesZgAAAASAdd6f8bmLxgGo+SxjWFYimKSnpys6OlppaWmKiooKdDkAAAAor2ejJUn7frVOTZs1D3AxqInIBu7DDDoAAABQA3mN7zZrjuMNcCUAKgsBHQAAAKiBnLw/5TnFHag1COgAAABADWRk5f5LQAdqCwI6AAAAUAM5Vm5AZwYdqDUI6AAAAEANZPL+lDcEdKC2IKADAAAANZAjZtCB2oaADgAAANRAeQFdhlXcgdqCgA4AAADUQHmnuBtjAlwJgMpCQAcAAABqIP8MOvdBB2qNkEAXAAAAAKDsvMaSLOmej5drq0ktVxv1wiytf35EJVcGoLyYQQcAAABqmJbjp/tn0O0K3Ac9I8uo5fjplVUWgAoioAMAAAA1SJvcQJ13DfpAe4Okil2H3vXpGRUtC0AlIKADAAAANUjeFedJThtJ0tOhn+gfoX9UC+tAudvMyGKhOcANCOgAAABADeLJ/fe+7Ic0KftWnTWhusyzQd+HPa77PF8pRDllbrNemFW5RQIoFwI6AAAAUINsmzRSkpSjEL3tvU5XZ/1JC7zdFGFl67HQf+rbsCfUy9pSpjZZKA5wBwI6AAAAUMPsnDTSP5O+28Tqzuzx+m3WfTpq6qujvUf/DntOz4dMVn2dLrademGWduYGfgCBZxljuOAkiKSnpys6OlppaWmKiooKdDkAAACoTKePSf95Ukr61Pdz/XhpxMtSp1H+XVLTzqj/xDmVdkgCfs1FNnAfAnqQYRACAAAEge3zpW9/Kx3b7vu5w0hfUI9uWiW3VbswpFfXrdv4cqBiyAbuQ0APMgxCAACAIJF9RlrwZ2nxa5KTI4XV1zOnbtQ/vEP1ZMg/dMLU07vekTqjiEBXWkA9nVYdZeqQGlbpcS5OiNLXD15epcdwM7KB+xDQgwyDEAAAIMgc3Ch985C09ydJUrqpoyjLd236PtNIz2eP0ffOJZIqZyX3ROugXg59V5uc5vo/7xBtNc3K9PowZWth+EOKtU4o2WmmuU4PzXe6a4XTQdkKqZQaLxSsM/FkA/choAcZBiEAAEAQchxp5WSlf/uEoqwzBTbP9XbXMzl3abeJLVVzP/fM1VB7lT7xXqWFTjedH+7v8MzSC6GT/T8vczrq05whmulcqiyFlth2Y6VpRcR/F3g+w0RosdNVZxSmTtZuLXK6aZHTVT85HXVKkaWquyjBOpNONnAfAnqQYRACAAAEsfRUzXv5FxrkWaNtTrxmOH31X55vFGZ5lWlC9WbOdXrbO0qZCiu2me/DHlMHe68kabXTVn/NuUHznB6SLI31fK/nQj+SJOUYWyGWI0k6aurrX94r9Jn3Su0ycUW23UQntDziPknSb7Ie0CDPGl1hr1FjK73Q/bONR0mmjRY7XbXI21VJpq1yyjjT7rGkbRODbxadbOA+BPQgwyAEAADAtRP+rkOmoQ6poVpb+/VcyIe63LNekrTTidWzOWNzA3fhFoU/qGbWkXzPrXFa6285NyjROqxnQz/Wt95++kP2HfqFZ55uDZmjBOuYf98F3m761DtEs51eBcJ0Ex3X8oj75TWW2mT6VqO35KirtVOD7CQN8qxRb3urlng7K946qpb2wXyvP2XCtczppMVOVy12uirZNJMp4e7SzKCTDdyCgB5kGIQAAAAowBhpw1Tp+99LJ1N9z3UaJV0zSYrOfw15y/HTNTvsEbWxU3V/1oO62N6mMZ4fVMfKlOQ7Fb2edVbfePvpN9kPSpI88mqwnaTbPT/oCnutbMsXQQ6aBvrcO1if51ypVDWSJF2k4/rpgoBenGbWIQ20N2igvV4D7A0FZtoPmyj96HTVYqeLFnu7ap+aFGiDa9DJBm5BQA8yDEIAAAAUKfOkNG+StPQtyXil0DrSFY9J/e6XQs6d9r7z2U5qqf36eeZT+sl0UozS9auQGbrT8x/Vs85Kkr729tfqPn/WM9d3zX+M4zullR9Jqz+RTh32PWfZUrthUp//J8V2ll7tIlke6ZljutBjXyTpi1X7Ci3fkqMO1l4NtNfpMnu9LrU3q27uFwd5djix+tHpqve8I1Q/vkNQzpznIRu4DwE9yDAIAQAAUKKDG6Tpj0i7l/h+btxBGvmK1Co3zP69t3Q0RbprhtRy4LnXnT4mLXlDWvcvacjTUrebiz5GTpa0+VtpxQfSzoXnnq8XK2UcLDKgl0lOlrRvhbR9nu/e8HuX+754kLQs9FL1fWJWxdqv4cgG7kNADzIMQgAAAJSKMdKaz6X/PCmdzr3evNvPpatfkD4c4Qvo476TWgyo+LEOb5FWfiglfSqdPeF7zg6Vnj5S3KvK7my6ds14RS3WvqYNnk7q8tTSym2/hiEbuE/V3EgQAAAAQM1mWVKP26QO10hzXpCWvy+t+0LaMlNyvJV7rCbtpWv+KA15StowTVrzf1KTTpV7DEmKiNLpxhdLkrzZZ9Vy/PTKP0YpBOs17yhZ8csZAgAAAAhukQ19p7f/eo6U0EvKTJeyT+VutIp9aZmFRvq+FBj7jTTiT5Xbdq7nZ26TJEXrlCJ1tkqOUZJAfTEA9yOgAwAAAChZ017Sr36Qrn1VimjgW9gtKiHQVZVJy/HTlW7qSJJa2Ie0Ovy/9G7oK7rRXqAoZVR7LcCFOMUdAAAAQOnYHt9K611vks6ckBq2CHRFZbbRtNCr2TfpRs9CtbAP6WrPSl3tWals49ESp7O+dy7Rf7y9dVgNA10qghCLxAUZFoIAAABAsMo/a23UydqtazzLNcxero72Hv8Wx1haZdpppvcSfe/00R4TWyX1BPpadLKB+xDQgwyDEAAAAMGsqFPLW1qpGmav0DWe5eppp+TbtsFpoZneSzTTuVRbTVNVxrX3gQ7nEtnAjQjoQYZBCAAAgGBX0vXfcTqqqz0rNMxeob72JoVYjn/bNide3zuX6HtvH60xbVSesO6GcC6RDdyIgB5kGIQAAABAGZw6Km35Ttr0jbRtjuTNOrctqqnU8Vqp0yipeX/JU/QSX4/9e42+WLFXvxvWQfcPblsNhZeMbOA+LBIHAAAAAEWp20jqeYfvkXlS2vofadO3vn/T90k/veN71GkkdRgudbpOaj1ICgnP14xt+WbamR9FcQjoAAAAAFAa4fV9K9h3vUnKPittn+ebWU+eIZ0+Kq3+h+8RVl9qf7VvZr3tVVJ4Pdm2L6A75HMUg4AOAAAAAGUVGiF1uMb38OZIu3/0hfVN30on90vrv/Q9POFS2yHqfbqHZqiFvCR0FINr0IMM15kAAAAAVchxpP2rcsP619Kx7f5NZ02opl78lm676ZYAFngO2cB97EAXAAAAAAC1hm1LzfpIVz0n/WaV9N9LpEG/V3poY0VY2YpLXx/oCuFiBHQAAAAAqAqWJcV2lgY9riVWD0nS8pRUtRw/Xf1enBXY2uBKBHQAAAAAqELtn5ihg6d9i8SFW9mSpAMns0q8HzuCDwHdRRYsWKBRo0YpISFBlmVp2rRp+bYbY/T0008rPj5ekZGRGjp0qLZu3RqYYgEAAACU6Lmv1ivLa5SpUEnS1fZyjbJ/lEdeSWImHfkQ0F3k1KlT6t69u954441Ct//pT3/S3/72N7399ttatmyZ6tatq2HDhuns2bPVXCkAAACA0vh+40FJ0kqnvRxjqZO9R4+Hfi5Hvhn1AyezAlkeXIbbrLnI8OHDNXz48EK3GWP02muv6cknn9T1118vSfr4448VGxuradOm6dZbb63OUgEAAACUwrDOsZq8ZJdmOpdqUNZfdLNnvo6ZKJncudK4+mEBrhBuwgx6DbFjxw4dOHBAQ4cO9T8XHR2tvn37asmSJQGsDAAAAEBRnrm+q8I8vtny3SZWf8n5uT70XuPfvvSJqwJVGlyIgF5DHDhwQJIUGxub7/nY2Fj/tsJkZmYqPT093wMAAABA9dny4giN698i33Nx9cO0c9LIAFUEt+IU91pu4sSJeu655wJdBgAAABDUnrm+q565vmugy4DLMYNeQ8TFxUmSDh48mO/5gwcP+rcVZsKECUpLS/M/9uzZU6V1AgAAAADKh4BeQ7Rq1UpxcXGaPXu2/7n09HQtW7ZM/fv3L/J14eHhioqKyvcAAAAAALgPp7i7SEZGhlJSUvw/79ixQ0lJSYqJiVHz5s3129/+Vi+88ILatWunVq1a6amnnlJCQoJGjx4duKIBAAAAAJWCgO4iK1as0ODBg/0/P/zww5KksWPH6sMPP9Rjjz2mU6dO6Z577tGJEyd02WWXaebMmYqIiAhUyQAAAACASmIZY0ygi0D1SU9PV3R0tNLS0jjdHQAAAAhiZAP3YQY9yOR9H8Pt1gAAAIDglpcJmLN1DwJ6kDl58qQkKTExMcCVAAAAAHCDkydPKjo6OtBlQJziHnQcx9H+/ftVv359WZYV0FrS09OVmJioPXv2cEpNFaOvqw99XX3o6+pDX1cf+rr60NfVh77Oz039YYzRyZMnlZCQINvmBl9uwAx6kLFtW82aNQt0Gflw+7fqQ19XH/q6+tDX1Ye+rj70dfWhr6sPfZ2fW/qDmXN34WsSAAAAAABcgIAOAAAAAIALENARMOHh4XrmmWcUHh4e6FJqPfq6+tDX1Ye+rj70dfWhr6sPfV196Ov86A8Uh0XiAAAAAABwAWbQAQAAAABwAQI6AAAAAAAuQEAHAAAAAMAFCOgAAAAAALgAAT0ITJw4UZdcconq16+viy66SKNHj1ZycnK+fc6ePav7779fjRo1Ur169XTTTTfp4MGD+fbZvXu3Ro4cqTp16uiiiy7S7373O+Xk5Pi3z5s3T5ZlFXgcOHCg2PqMMXr66acVHx+vyMhIDR06VFu3bs23z5YtW3T99dercePGioqK0mWXXaa5c+eW+N7Xrl2ryy+/XBEREUpMTNSf/vSnfNs3bNigm266SS1btpRlWXrttddKbLM49HXRff3hhx8WqDciIqLEdotCXxfd19nZ2Xr++efVpk0bRUREqHv37po5c2aJ7RYlWPv67Nmzuuuuu9StWzeFhIRo9OjRBfZZtGiRBg4cqEaNGikyMlIdO3bUq6++Wmy7xaGvi+7ru+66q9Cau3TpUmzbRQnWvp43b56uv/56xcfHq27duurRo4c+/fTTfPvw2Vh9fc1nY9X29YX90alTJyUmJub7bHR7f6xatUpXXXWVGjRooEaNGumee+5RRkZGse1K1f83MCqRQa03bNgwM3nyZLN+/XqTlJRkRowYYZo3b24yMjL8+9x7770mMTHRzJ4926xYscL069fPDBgwwL89JyfHdO3a1QwdOtSsXr3azJgxwzRu3NhMmDDBv8/cuXONJJOcnGxSU1P9D6/XW2x9kyZNMtHR0WbatGlmzZo15rrrrjOtWrUyZ86c8e/Trl07M2LECLNmzRqzZcsWc99995k6deqY1NTUIttNS0szsbGx5vbbbzfr1683n332mYmMjDTvvPOOf5+ffvrJPProo+azzz4zcXFx5tVXXy1L1xZAXxfd15MnTzZRUVH56j1w4ECZ+vd89HXRff3YY4+ZhIQEM336dLNt2zbz5ptvmoiICLNq1aoy9XGeYO3rjIwMc++995p3333XDBs2zFx//fUF9lm1apX5v//7P7N+/XqzY8cO88knn5g6derk+9+jLOjrovv6xIkT+Wrds2ePiYmJMc8880wperagYO3rF1980Tz55JNm8eLFJiUlxbz22mvGtm3zzTff+Pfhs7H6+prPxqrt6169evn746677jLh4eGmSZMmZt26df7Pxptvvtm1/bFv3z7TsGFDc++995rNmzebn376yQwYMMDcdNNNxbYbiL+BUXkI6EHo0KFDRpKZP3++Mcb3R09oaKj517/+5d9n06ZNRpJZsmSJMcaYGTNmGNu2831ovPXWWyYqKspkZmYaY879cjp+/Hipa3Ecx8TFxZmXX37Z/9yJEydMeHi4+eyzz4wxxhw+fNhIMgsWLPDvk56ebiSZWbNmFdn2m2++aRo2bOivzxhjHn/8cdOhQ4dC92/RokWl/3Kir8/19eTJk010dHSp6y0r+vpcX8fHx5vXX3893+tuvPFGc/vtt5f6PRQnWPr6fGPHji00NBbmhhtuMHfccUep30Nx6OuiTZ061ViWZXbu3Fnq91CcYOzrPCNGjDDjxo0rdBufjVXb13w2Vl9fx8fHm4kTJ+brj1GjRhnbtl3bH++884656KKL8gX9tWvXGklm69atRbbthr+BUX6c4h6E0tLSJEkxMTGSpJUrVyo7O1tDhw7179OxY0c1b95cS5YskSQtWbJE3bp1U2xsrH+fYcOGKT09XRs2bMjXfo8ePRQfH6+rrrpKixcvLraWHTt26MCBA/mOHR0drb59+/qP3ahRI3Xo0EEff/yxTp06pZycHL3zzju66KKL1Lt37yLbXrJkiX72s58pLCwsX83Jyck6fvx4sXVVFvo6f19nZGSoRYsWSkxM1PXXX1/g/VQEfX2urzMzMwucIhkZGalFixYVW3dpBUtfl8fq1av1448/6oorrqiU9ujror3//vsaOnSoWrRoUSntBXNfp6Wl+d93daCv8/c1n43V09eZmZlyHCdff5w+fVqO47i2PzIzMxUWFibbPhfZIiMjJanYz3Q3/A2M8iOgBxnHcfTb3/5WAwcOVNeuXSVJBw4cUFhYmBo0aJBv39jYWP+1MwcOHMj3iylve942SYqPj9fbb7+tL7/8Ul9++aUSExM1aNAgrVq1qsh68l5bWNt52yzL0g8//KDVq1erfv36ioiI0F/+8hfNnDlTDRs2LLbtkmquSvR1/po7dOigDz74QF999ZX+8Y9/yHEcDRgwQHv37i2y3dKir/PXPGzYMP3lL3/R1q1b5TiOZs2apSlTpig1NbXIdksrmPq6LJo1a6bw8HD16dNH999/v371q19VuE36umj79+/Xd999Vyn9LAV3X3/xxRdavny5xo0bV+rXVAR9nb+v+Wysvr6++uqrNXHiRPXq1UudO3fWrFmztGDBAklybX9ceeWVOnDggF5++WVlZWXp+PHjGj9+vCQV+5ke6L+BUTEE9CBz//33a/369fr8888rve0OHTrov/7rv9S7d28NGDBAH3zwgQYMGOBfMOnTTz9VvXr1/I+FCxeWql1jjO6//35ddNFFWrhwoX766SeNHj1ao0aN8v9y6tKli7/d4cOHV/p7Kw/6Or/+/fvrzjvvVI8ePXTFFVdoypQpatKkid55552yd8AF6Ov8/vrXv6pdu3bq2LGjwsLC9MADD2jcuHH5voEvL/q6cAsXLtSKFSv09ttv67XXXtNnn31W5jYuRF8X7aOPPlKDBg0KXUyuPIK1r+fOnatx48bpf//3f8u92F5Z0df5+5rPxvyqsq/Dw8Pl9Xq1evVq/2djZZ3tVFX90aVLF3300Ud65ZVXVKdOHcXFxalVq1aKjY31f6a78W9gVExIoAtA9XnggQf07bffasGCBWrWrJn/+bi4OGVlZenEiRP5vkE8ePCg4uLi/Pv89NNP+drLW+Eyb5/CXHrppf5TcK677jr17dvXv61p06b+X7YHDx5UfHx8vrZ79OghSZozZ46+/fZbHT9+XFFRUZKkN998U7NmzdJHH32k8ePHa8aMGcrOzpZ07tSfuLi4AqtwlqbmykBfl1xzaGioevbsqZSUlCLfU2nQ1wVrbtKkiaZNm6azZ8/q6NGjSkhI0Pjx49W6desi31NpBFtfl0WrVq0kSd26ddPBgwf17LPP6rbbbitzO3no66IZY/TBBx9ozJgx+U7fLK9g7ev58+dr1KhRevXVV3XnnXeW3FGVgL4uua/5bKyavn7ggQc0e/ZsbdiwQfHx8f7Pxrzf027tD0n65S9/qV/+8pc6ePCg6tatK8uy9Je//MX/me62v4FRccygBwFjjB544AFNnTpVc+bM8f8hmad3794KDQ3V7Nmz/c8lJydr9+7d6t+/vyTfN7zr1q3ToUOH/PvMmjVLUVFR6ty5c5HHTkpK8v/SqV+/vtq2bet/REZGqlWrVoqLi8t37PT0dC1btsx/7NOnT0tSgdk/27b91xK1aNHC327Tpk39NS9YsMD/Syuv5g4dOlTqqZbno69L39der1fr1q3L96FUFvR1yX0dERGhpk2bKicnR19++aWuv/764rq0SMHa1+XlOI4yMzPL9Vr6umTz589XSkqK7r777jK/9nzB3Nfz5s3TyJEj9dJLL+mee+4pfaeVE31d+r7ms7Fy+7qw/jj/s3HZsmWybdu1/XG+2NhY1atXT//85z8VERGhq666qsj+CMTfwKhE1b0qHarff//3f5vo6Ggzb968fLd+OH36tH+fe++91zRv3tzMmTPHrFixwvTv39/079/fvz3vFhNXX321SUpKMjNnzjRNmjTJd4uJV1991UybNs1s3brVrFu3zjz00EPGtm3zww8/FFvfpEmTTIMGDcxXX31l1q5da66//vp8t5g4fPiwadSokbnxxhtNUlKSSU5ONo8++qgJDQ01SUlJRbZ74sQJExsba8aMGWPWr19vPv/88wK3P8rMzDSrV682q1evNvHx8ebRRx81q1evLnZlzOLQ10X39XPPPWe+//57s23bNrNy5Upz6623moiICLNhw4Yy97Mx9HVxfb106VLz5Zdfmm3btpkFCxaYK6+80rRq1apMq8ueL1j72hhjNmzYYFavXm1GjRplBg0a5P99kef11183X3/9tdmyZYvZsmWLee+990z9+vXNE088UZYu9qOvi+7rPHfccYfp27dvabqzWMHa13PmzDF16tQxEyZMyPe+jx496t+Hz8bq62s+G6u2r8eNG+fvj+nTp5v33nvPLF261MyaNcv/2Thu3DjX9ocxxvz97383K1euNMnJyeb11183kZGR5q9//Wux7Qbib2BUHgJ6EJBU6GPy5Mn+fc6cOWPuu+8+07BhQ1OnTh1zww03FLjf5M6dO83w4cNNZGSkady4sXnkkUdMdna2f/tLL71k2rRpYyIiIkxMTIwZNGiQmTNnTon1OY5jnnrqKRMbG2vCw8PNkCFDTHJycr59li9fbq6++moTExNj6tevb/r162dmzJhRYttr1qwxl112mQkPDzdNmzY1kyZNyrd9x44dhfbNFVdcUWLbhaGvi+7r3/72t6Z58+YmLCzMxMbGmhEjRpT7vtzG0NfF9fW8efNMp06dTHh4uGnUqJEZM2aM2bdvX4ntFiWY+7pFixaFvvc8f/vb30yXLl1MnTp1TFRUlOnZs6d58803S7z3bVHo66L72hjfH52RkZHm3XffLbG9kgRrX48dO7bEzz0+G6uvr/lsrNq+LupRt25d/2ej2/tjzJgxJiYmxoSFhZmLL77YfPzxxyW2a0z1/w2MymMZY0xpZtoBAAAAAEDV4Rp0AAAAAABcgIAOAAAAAIALENABAAAAAHABAjoAAAAAAC5AQAcAAAAAwAUI6AAAAAAAuAABHQAAAAAAFyCgAwAAAADgAgR0AAAAAABcgIAOAAAAAIALENABAAAAAHCB/w8Prlg1uTekhgAAAABJRU5ErkJggg==' width=1000.0/>\n",
       "            </div>\n",
       "        "
      ],
      "text/plain": [
       "Canvas(toolbar=Toolbar(toolitems=[('Home', 'Reset original view', 'home', 'home'), ('Back', 'Back to previous …"
      ]
     },
     "metadata": {},
     "output_type": "display_data"
    }
   ],
   "source": [
    "plt.figure(figsize = [10,3])\n",
    "# plt.plot(GRACE_Data['Latitude (deg)'])\n",
    "plt.plot(df_in['semi_major_axis'],'-o',ms=3)\n",
    "plt.plot(time_array,semi_major_axis)"
   ]
  },
  {
   "cell_type": "code",
   "execution_count": null,
   "id": "53af55f7-07f9-49ac-9bb3-d124c07b3f0b",
   "metadata": {},
   "outputs": [],
   "source": []
  }
 ],
 "metadata": {
  "kernelspec": {
   "display_name": "Python 3 (ipykernel)",
   "language": "python",
   "name": "python3"
  },
  "language_info": {
   "codemirror_mode": {
    "name": "ipython",
    "version": 3
   },
   "file_extension": ".py",
   "mimetype": "text/x-python",
   "name": "python",
   "nbconvert_exporter": "python",
   "pygments_lexer": "ipython3",
   "version": "3.9.7"
  }
 },
 "nbformat": 4,
 "nbformat_minor": 5
}
