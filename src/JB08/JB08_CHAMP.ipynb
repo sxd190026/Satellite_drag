{
 "cells": [
  {
   "cell_type": "code",
   "execution_count": 1,
   "id": "f0f85138-3a2f-450e-8ff2-c60d2aee9a7f",
   "metadata": {},
   "outputs": [],
   "source": [
    "import os\n",
    "import sys\n",
    "import matplotlib.pyplot as plt\n",
    "import datetime as dt\n",
    "import pandas as pd\n",
    "import numpy as np\n",
    "import julian\n",
    "from numpy import floor"
   ]
  },
  {
   "cell_type": "code",
   "execution_count": 2,
   "id": "a9898b37-926f-4127-9af4-645d9481f13f",
   "metadata": {},
   "outputs": [
    {
     "name": "stdout",
     "output_type": "stream",
     "text": [
      "Initializing Julia interpreter. This may take some time...\n"
     ]
    }
   ],
   "source": [
    "%load_ext julia.magic\n",
    "%julia using Dates;\n",
    "%julia using LinearAlgebra;\n",
    "%julia using DataFrames;\n",
    "%julia using SatelliteToolbox"
   ]
  },
  {
   "cell_type": "code",
   "execution_count": 3,
   "id": "eb069d3c-54fc-456e-93c3-fe2b5e2734cb",
   "metadata": {},
   "outputs": [],
   "source": [
    "filepath = 'C:\\\\Users\\\\soumy\\\\OneDrive - The University of Texas at Dallas\\\\Documents\\\\MURI Project_1\\\\Data\\\\Temp\\\\'\n",
    "os.chdir(filepath)\n",
    "filename = 'CHAMP_NEUTRAL_08_2005.csv';\n",
    "CHAMP_Data = pd.read_csv(filename)\n",
    "CHAMP_Data.index = pd.DatetimeIndex(CHAMP_Data['Unnamed: 0'])\n",
    "CHAMP_Data = CHAMP_Data.drop('Unnamed: 0',axis=1)"
   ]
  },
  {
   "cell_type": "code",
   "execution_count": 4,
   "id": "5bd3e7de-79cd-482c-b1b6-9e99e16e5d69",
   "metadata": {},
   "outputs": [],
   "source": [
    "## Quiet-time background data using JB08\n",
    "## Import Solar Indices\n",
    "\n",
    "# F10, S10, M10, Y10 data release 5_4g (28-Jul-2021 13:38:06.00) by Space Environment Technologies\n",
    "filepath = \"C:\\\\Users\\\\soumy\\\\OneDrive - The University of Texas at Dallas\\\\Documents\\\\MURI Project_1\\\\Data\\\\Solar Indices\\\\\"\n",
    "os.chdir(filepath)\n",
    "\n",
    "SOLdata = pd.read_fwf('SOLFSMY.txt',skiprows=4,infer_nrows = 1000,header = None)\n",
    "SOLdata.columns = ['YYYY' ,'DDD','JulianDay','F10','F81c','S10','S81c','M10','M81c','Y10','Y81c','Ssrc']\n",
    "DTCdata = np.array(pd.read_fwf('DTCFILE.txt',infer_nrows = 1000,header = None))\n"
   ]
  },
  {
   "cell_type": "code",
   "execution_count": 6,
   "id": "0fe64054-6d2b-417a-8824-0bd59acc18e0",
   "metadata": {},
   "outputs": [],
   "source": [
    "JD = [];F10 = [];S10 = [];M10 = []; Y10 = []\n",
    "F10c = [];S10c = [];M10c = []; Y10c = [];DstDTC = [];\n",
    "ap = [];F10a = [];\n",
    "year = 2005; month = 8; day = 23; ##quiet day\n",
    "\n",
    "for i in range(len(CHAMP_Data)):\n",
    "    t0 = CHAMP_Data.index[i]\n",
    "    # t1 = dt.datetime(year,month,day,t0.hour,t0.minute,t0.second)\n",
    "    t1 = t0\n",
    "    jd = julian.to_jd(t1)\n",
    "    JD.append(jd)\n",
    "    DOY = (t1 - dt.datetime(year,1,1,0,0,0))/dt.timedelta(days = 1) + 1\n",
    "    j = np.where((SOLdata['YYYY'] == year) & (SOLdata['DDD'] == floor(DOY)))[0][0]\n",
    "    F10.append(SOLdata['F10'][j-1])\n",
    "    S10.append(SOLdata['S10'][j-1])\n",
    "    M10.append(SOLdata['M10'][j-2])\n",
    "    Y10.append(SOLdata['Y10'][j-5])\n",
    "    F10c.append(SOLdata['F81c'][j-1]) \n",
    "    S10c.append(SOLdata['S81c'][j-1])\n",
    "    M10c.append(SOLdata['M81c'][j-2])\n",
    "    Y10c.append(SOLdata['Y81c'][j-5])\n",
    "    j = np.where((DTCdata[:,1] == year) & (DTCdata[:,2] == floor(DOY)))[0][0]\n",
    "    DstDTC.append(DTCdata[j,t1.hour+3])"
   ]
  },
  {
   "cell_type": "code",
   "execution_count": 7,
   "id": "94333462-7499-417a-8cfa-3c1306529f44",
   "metadata": {},
   "outputs": [],
   "source": [
    "%julia JD = $JD; F10 = $F10; S10 = $S10; M10 = $M10; Y10 = $Y10; F10c = $F10c; S10c = $S10c; M10c = $M10c; Y10c = $Y10c; DstDTC = $DstDTC\n",
    "%julia LAT = py\"CHAMP_Data['Latitude (deg)']\"; LON = py\"CHAMP_Data['Longitude (deg)']\"; ALT = py\"CHAMP_Data['Altitude (km)']\";\n",
    "%julia gc_lat = []; gc_alt = [];\n",
    "%julia for i = 1:length(LAT); y,z = geodetic_to_geocentric(deg2rad(LAT[i]),ALT[i]*1000);y0,z0 = geodetic_to_geocentric(deg2rad(LAT[i]),0) ;push!(gc_lat,y); push!(gc_alt,z-z0); end; \n",
    "%julia global DataJB = []; \n",
    "rho = []; nO2 = []; nN2 = []; nO = []; nAr = []; nHe = []; nH = []; T_exo = [];Tz = [];\n",
    "%julia for i= 1:length(JD); push!(DataJB,jb2008(JD[i],gc_lat[i],deg2rad(LON[i]),gc_alt[i],F10[i],F10c[i],S10[i],S10c[i],M10[i],M10c[i],Y10[i],Y10c[i],DstDTC[i])); end;\n",
    "\n",
    "DataJB = %julia DataJB\n",
    "for i in range(len(CHAMP_Data)):\n",
    "    rho.append(DataJB[i].rho)\n",
    "    nO2.append(DataJB[i].nO2)\n",
    "    nN2.append(DataJB[i].nN2)\n",
    "    nO.append(DataJB[i].nO)\n",
    "    nAr.append(DataJB[i].nAr)\n",
    "    nHe.append(DataJB[i].nHe)\n",
    "    nH.append(DataJB[i].nH)\n",
    "    T_exo.append(DataJB[i].T_exo)\n",
    "    Tz.append(DataJB[i].Tz)\n",
    "    \n",
    "Data_JB = pd.DataFrame({'rho': rho,\n",
    "                       'nO2': nO2,\n",
    "                        'nN2': nN2,\n",
    "                        'nO' : nO,\n",
    "                        'nAr':nAr,\n",
    "                        'nHe':nHe,\n",
    "                        'nH':nH,\n",
    "                        'T_exo':T_exo,\n",
    "                        'Tz':Tz\n",
    "                       },index = CHAMP_Data.index)"
   ]
  },
  {
   "cell_type": "code",
   "execution_count": 8,
   "id": "c143a4b0-3953-4e1e-8306-491bb6ead701",
   "metadata": {},
   "outputs": [],
   "source": [
    "filepath = \"C:\\\\Users\\\\soumy\\\\OneDrive - The University of Texas at Dallas\\\\Documents\\\\MURI Project\\\\Data\\\\Temp\\\\\"\n",
    "os.chdir(filepath)\n",
    "\n",
    "filename = 'JB_output_08_2005.csv'\n",
    "Data_JB.to_csv(filename)"
   ]
  },
  {
   "cell_type": "code",
   "execution_count": null,
   "id": "f58f374e-c0d4-4497-a0db-1622f963ba46",
   "metadata": {},
   "outputs": [],
   "source": []
  }
 ],
 "metadata": {
  "kernelspec": {
   "display_name": "Python 3 (ipykernel)",
   "language": "python",
   "name": "python3"
  },
  "language_info": {
   "codemirror_mode": {
    "name": "ipython",
    "version": 3
   },
   "file_extension": ".py",
   "mimetype": "text/x-python",
   "name": "python",
   "nbconvert_exporter": "python",
   "pygments_lexer": "ipython3",
   "version": "3.9.7"
  }
 },
 "nbformat": 4,
 "nbformat_minor": 5
}
