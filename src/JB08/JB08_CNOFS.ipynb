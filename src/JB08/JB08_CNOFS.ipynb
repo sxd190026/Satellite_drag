{
 "cells": [
  {
   "cell_type": "code",
   "execution_count": 1,
   "id": "05f82cef-b042-4889-a46f-98e29072b55e",
   "metadata": {},
   "outputs": [],
   "source": [
    "import os\n",
    "import sys\n",
    "import pandas as pd\n",
    "import numpy as np\n",
    "import datetime as dt\n",
    "import julia\n",
    "import julian\n",
    "\n",
    "import matplotlib.pyplot as plt\n",
    "from numpy import floor\n",
    "from tqdm import tqdm"
   ]
  },
  {
   "cell_type": "code",
   "execution_count": 2,
   "id": "4716ec5d-60b4-4fd7-a9dc-c3d1675d1e64",
   "metadata": {},
   "outputs": [],
   "source": [
    "start = dt.datetime(2015,6,1,0,0,0)\n",
    "stop = dt.datetime(2015,6,30,0,0,0)"
   ]
  },
  {
   "cell_type": "code",
   "execution_count": 3,
   "id": "ab0ea3e8-13d5-490a-82a2-ea98ee068146",
   "metadata": {},
   "outputs": [
    {
     "name": "stdout",
     "output_type": "stream",
     "text": [
      "Initializing Julia interpreter. This may take some time...\n"
     ]
    }
   ],
   "source": [
    "%load_ext julia.magic\n",
    "%julia using Dates;\n",
    "%julia using LinearAlgebra;\n",
    "%julia using DataFrames;\n",
    "# %julia cd(\"C://Users//soumy//OneDrive - The University of Texas at Dallas//Documents//MURI Project_1//src//SatelliteToolbox.jl-master//src//\")\n",
    "# %julia include(\"SatelliteToolbox.jl\");\n",
    "%julia using SatelliteToolbox"
   ]
  },
  {
   "cell_type": "code",
   "execution_count": 4,
   "id": "542802ec-1fe9-4576-91f3-55cf2553002c",
   "metadata": {},
   "outputs": [],
   "source": [
    "filepath = 'C:\\\\Users\\\\soumy\\\\OneDrive - The University of Texas at Dallas\\\\Documents\\\\MURI_Project_1\\\\Data\\\\temp\\\\';\n",
    "# filepath = '/Users/user/OneDrive - The University of Texas at Dallas/Documents/MURI Project/Data/Temp/';\n",
    "\n",
    "os.chdir(filepath)\n",
    "filename = 'CNOFS_IVM_' + start.strftime(\"%Y-%m-%d\") + '.csv'\n",
    "CNOFS_Data = pd.read_csv(filename)\n",
    "CNOFS_Data.index = pd.DatetimeIndex(CNOFS_Data['Unnamed: 0'])\n",
    "CNOFS_Data = CNOFS_Data.drop(columns = ['Unnamed: 0'])\n",
    "rows = np.arange(0,len(CNOFS_Data),5)\n",
    "CNOFS_Data = CNOFS_Data.iloc[rows,:]"
   ]
  },
  {
   "cell_type": "code",
   "execution_count": null,
   "id": "f8bdd594-87c6-4db3-b150-025efd6df3d6",
   "metadata": {},
   "outputs": [],
   "source": []
  },
  {
   "cell_type": "code",
   "execution_count": 10,
   "id": "d980cf40-5ab9-4e22-bca8-549d94c5e92b",
   "metadata": {},
   "outputs": [],
   "source": [
    "## CNOFS_Data background data using JB08\n",
    "## Import Solar Indices\n",
    "\n",
    "# F10, S10, M10, Y10 data release 5_4g (28-Jul-2021 13:38:06.00) by Space Environment Technologies\n",
    "filepath = \"C:\\\\Users\\\\soumy\\\\OneDrive - The University of Texas at Dallas\\\\Documents\\\\MURI_Project_1\\\\Data\\\\Solar Indices\\\\\"\n",
    "os.chdir(filepath)\n",
    "\n",
    "SOLdata = pd.read_fwf('SOLFSMY.txt',skiprows=4,infer_nrows = 1000,header = None)\n",
    "SOLdata.columns = ['YYYY' ,'DDD','JulianDay','F10','F81c','S10','S81c','M10','M81c','Y10','Y81c','Ssrc']\n",
    "DTCdata = np.array(pd.read_fwf('DTCFILE.txt',infer_nrows = 1000,header = None))\n"
   ]
  },
  {
   "cell_type": "code",
   "execution_count": null,
   "id": "817facf2-603e-45cc-97dc-46380fcc8bfb",
   "metadata": {},
   "outputs": [],
   "source": []
  },
  {
   "cell_type": "code",
   "execution_count": 11,
   "id": "bd9ef337-369d-40e3-9810-7bf35bcd8a59",
   "metadata": {},
   "outputs": [
    {
     "name": "stderr",
     "output_type": "stream",
     "text": [
      "100%|██████████| 469974/469974 [06:57<00:00, 1126.77it/s]\n"
     ]
    }
   ],
   "source": [
    "JD = [];F10 = [];S10 = [];M10 = []; Y10 = []\n",
    "F10c = [];S10c = [];M10c = []; Y10c = [];DstDTC = [];\n",
    "ap = [];F10a = [];\n",
    "year = 2015;\n",
    "\n",
    "for i in tqdm(range(len(CNOFS_Data))):\n",
    "    t0 = CNOFS_Data.index[i]\n",
    "    # t1 = dt.datetime(year,month,day,t0.hour,t0.minute,t0.second)\n",
    "    t1 = t0\n",
    "    jd = julian.to_jd(t1)\n",
    "    JD.append(jd)\n",
    "    DOY = (t1 - dt.datetime(year,1,1,0,0,0))/dt.timedelta(days = 1) + 1\n",
    "    j = np.where((SOLdata['YYYY'] == year) & (SOLdata['DDD'] == floor(DOY)))[0][0]\n",
    "    F10.append(SOLdata['F10'][j-1])\n",
    "    S10.append(SOLdata['S10'][j-1])\n",
    "    M10.append(SOLdata['M10'][j-2])\n",
    "    Y10.append(SOLdata['Y10'][j-5])\n",
    "    F10c.append(SOLdata['F81c'][j-1]) \n",
    "    S10c.append(SOLdata['S81c'][j-1])\n",
    "    M10c.append(SOLdata['M81c'][j-2])\n",
    "    Y10c.append(SOLdata['Y81c'][j-5])\n",
    "    j = np.where((DTCdata[:,1] == year) & (DTCdata[:,2] == floor(DOY)))[0][0]\n",
    "    DstDTC.append(DTCdata[j,t1.hour+3])"
   ]
  },
  {
   "cell_type": "code",
   "execution_count": null,
   "id": "bda75f7b-001b-44d6-9526-eb735e3ff3d8",
   "metadata": {},
   "outputs": [],
   "source": []
  },
  {
   "cell_type": "code",
   "execution_count": 12,
   "id": "849070d5-f414-4f3e-92e2-485681e08408",
   "metadata": {},
   "outputs": [],
   "source": [
    "%julia JD = $JD; F10 = $F10; S10 = $S10; M10 = $M10; Y10 = $Y10; F10c = $F10c; S10c = $S10c; M10c = $M10c; Y10c = $Y10c; DstDTC = $DstDTC\n",
    "%julia LAT = py\"CNOFS_Data['glat']\"; LON = py\"CNOFS_Data['glon']\"; ALT = py\"CNOFS_Data['altitude']\";\n",
    "%julia gc_lat = []; gc_alt = [];\n",
    "%julia for i = 1:length(LAT); y,z = geodetic_to_geocentric(deg2rad(LAT[i]),ALT[i]*1000);y0,z0 = geodetic_to_geocentric(deg2rad(LAT[i]),0) ;push!(gc_lat,y); push!(gc_alt,z-z0); end; \n",
    "%julia global DataJB = []; \n",
    "rho = []; nO2 = []; nN2 = []; nO = []; nAr = []; nHe = []; nH = []; T_exo = [];Tz = [];\n",
    "%julia for i= 1:length(JD); push!(DataJB,jb2008(JD[i],gc_lat[i],deg2rad(LON[i]),gc_alt[i],F10[i],F10c[i],S10[i],S10c[i],M10[i],M10c[i],Y10[i],Y10c[i],DstDTC[i])); end;\n",
    "\n",
    "DataJB = %julia DataJB\n",
    "for i in range(len(CNOFS_Data)):\n",
    "    rho.append(DataJB[i].rho)\n",
    "    nO2.append(DataJB[i].nO2)\n",
    "    nN2.append(DataJB[i].nN2)\n",
    "    nO.append(DataJB[i].nO)\n",
    "    nAr.append(DataJB[i].nAr)\n",
    "    nHe.append(DataJB[i].nHe)\n",
    "    nH.append(DataJB[i].nH)\n",
    "    \n",
    "    T_exo.append(DataJB[i].T_exo)\n",
    "    Tz.append(DataJB[i].Tz)\n",
    "    \n",
    "Data_JB = pd.DataFrame({'rho': rho,\n",
    "                       'nO2': nO2,\n",
    "                        'nN2': nN2,\n",
    "                        'nO' : nO,\n",
    "                        'nAr':nAr,\n",
    "                        'nHe':nHe,\n",
    "                        'nH':nH,\n",
    "                        'T_exo':T_exo,\n",
    "                        'Tz':Tz\n",
    "                       },index = CNOFS_Data.index)"
   ]
  },
  {
   "cell_type": "code",
   "execution_count": 14,
   "id": "bb54f5a7-947d-4d7f-974a-783c1eaabf9a",
   "metadata": {},
   "outputs": [],
   "source": [
    "filepath = \"C:\\\\Users\\\\soumy\\\\OneDrive - The University of Texas at Dallas\\\\Documents\\\\MURI_Project_1\\\\Data\\\\Temp\\\\\"\n",
    "os.chdir(filepath)\n",
    "\n",
    "filename = 'CNOFS_JB_' + start.strftime('%Y-%m-%d') +'.csv'\n",
    "Data_JB.to_csv(filename)"
   ]
  },
  {
   "cell_type": "code",
   "execution_count": 8,
   "id": "f6a0d47a-e473-4be2-bb08-de7b195c8bfd",
   "metadata": {},
   "outputs": [],
   "source": [
    "JD = [];F10 = [];S10 = [];M10 = []; Y10 = []\n",
    "F10c = [];S10c = [];M10c = []; Y10c = [];DstDTC = [];\n",
    "ap = [];F10a = [];\n",
    "year = 2015;month = 6;day = 20; ##quiet day\n",
    "\n",
    "for i in range(len(CNOFS_Data)):\n",
    "    t0 = CNOFS_Data.index[i]\n",
    "    t1 = dt.datetime(year,month,day,t0.hour,t0.minute,t0.second)\n",
    "    jd = julian.to_jd(t1)\n",
    "    JD.append(jd)\n",
    "    DOY = (t1 - dt.datetime(year,1,1,0,0,0))/dt.timedelta(days = 1) + 1\n",
    "    j = np.where((SOLdata['YYYY'] == year) & (SOLdata['DDD'] == floor(DOY)))[0][0]\n",
    "    F10.append(SOLdata['F10'][j-1])\n",
    "    S10.append(SOLdata['S10'][j-1])\n",
    "    M10.append(SOLdata['M10'][j-2])\n",
    "    Y10.append(SOLdata['Y10'][j-5])\n",
    "    F10c.append(SOLdata['F81c'][j-1]) \n",
    "    S10c.append(SOLdata['S81c'][j-1])\n",
    "    M10c.append(SOLdata['M81c'][j-2])\n",
    "    Y10c.append(SOLdata['Y81c'][j-5])\n",
    "    j = np.where((DTCdata[:,1] == year) & (DTCdata[:,2] == floor(DOY)))[0][0]\n",
    "    DstDTC.append(DTCdata[j,t1.hour+3])\n",
    "\n",
    "\n"
   ]
  },
  {
   "cell_type": "code",
   "execution_count": 9,
   "id": "3258f548-e2f2-4ec4-8ffe-a2055f0a1862",
   "metadata": {},
   "outputs": [],
   "source": [
    "%julia JD = $JD; F10 = $F10; S10 = $S10; M10 = $M10; Y10 = $Y10; F10c = $F10c; S10c = $S10c; M10c = $M10c; Y10c = $Y10c; DstDTC = $DstDTC\n",
    "%julia LAT = py\"CNOFS_Data['glat']\"; LON = py\"CNOFS_Data['glon']\"; ALT = py\"CNOFS_Data['altitude']\";\n",
    "%julia gc_lat = []; gc_alt = [];\n",
    "%julia for i = 1:length(LAT); y,z = geodetic_to_geocentric(deg2rad(LAT[i]),ALT[i]*1000);y0,z0 = geodetic_to_geocentric(deg2rad(LAT[i]),0) ;push!(gc_lat,y); push!(gc_alt,z-z0); end; \n",
    "%julia global DataJB = []; \n",
    "rho = []; nO2 = []; nN2 = []; nO = []; nAr = []; nHe = []; nH = []; T_exo = [];Tz = [];\n",
    "%julia for i= 1:length(JD); push!(DataJB,jb2008(JD[i],gc_lat[i],deg2rad(LON[i]),gc_alt[i],F10[i],F10c[i],S10[i],S10c[i],M10[i],M10c[i],Y10[i],Y10c[i],0)); end;\n",
    "\n",
    "DataJB = %julia DataJB\n",
    "for i in range(len(CNOFS_Data)):\n",
    "    rho.append(DataJB[i].rho)\n",
    "    nO2.append(DataJB[i].nO2)\n",
    "    nN2.append(DataJB[i].nN2)\n",
    "    nO.append(DataJB[i].nO)\n",
    "    nAr.append(DataJB[i].nAr)\n",
    "    nHe.append(DataJB[i].nHe)\n",
    "    nH.append(DataJB[i].nH)\n",
    "    \n",
    "    T_exo.append(DataJB[i].T_exo)\n",
    "    Tz.append(DataJB[i].Tz)\n",
    "    \n"
   ]
  },
  {
   "cell_type": "code",
   "execution_count": 10,
   "id": "d0d0686d-104e-4a68-9da6-b08b8b06f487",
   "metadata": {},
   "outputs": [],
   "source": [
    "Data_JB_qt = pd.DataFrame({'rho': rho,\n",
    "                       'nO2': nO2,\n",
    "                        'nN2': nN2,\n",
    "                        'nO' : nO,\n",
    "                        'nAr':nAr,\n",
    "                        'nHe':nHe,\n",
    "                        'nH':nH,\n",
    "                        'T_exo':T_exo,\n",
    "                        'Tz':Tz\n",
    "                       },index = CNOFS_Data.index)"
   ]
  },
  {
   "cell_type": "code",
   "execution_count": 13,
   "id": "207346a3-ad4f-478f-a1ad-b206d057e5dc",
   "metadata": {},
   "outputs": [],
   "source": [
    "filepath = \"C:\\\\Users\\\\soumy\\\\OneDrive - The University of Texas at Dallas\\\\Documents\\\\MURI_Project_1\\\\Data\\\\Temp\\\\\"\n",
    "os.chdir(filepath)\n",
    "\n",
    "filename = 'JB_output_qt_CNOFS_06_2015.csv'\n",
    "Data_JB_qt.to_csv(filename)"
   ]
  },
  {
   "cell_type": "code",
   "execution_count": null,
   "id": "27923b0d-901f-4d42-832f-367ca44bb938",
   "metadata": {},
   "outputs": [],
   "source": []
  },
  {
   "cell_type": "code",
   "execution_count": null,
   "id": "6178e950-def1-4cc4-ab72-a97418408d22",
   "metadata": {},
   "outputs": [],
   "source": []
  }
 ],
 "metadata": {
  "kernelspec": {
   "display_name": "Python 3 (ipykernel)",
   "language": "python",
   "name": "python3"
  },
  "language_info": {
   "codemirror_mode": {
    "name": "ipython",
    "version": 3
   },
   "file_extension": ".py",
   "mimetype": "text/x-python",
   "name": "python",
   "nbconvert_exporter": "python",
   "pygments_lexer": "ipython3",
   "version": "3.9.12"
  }
 },
 "nbformat": 4,
 "nbformat_minor": 5
}
