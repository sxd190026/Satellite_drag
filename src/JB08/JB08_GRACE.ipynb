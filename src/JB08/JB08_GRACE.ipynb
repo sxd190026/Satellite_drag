{
 "cells": [
  {
   "cell_type": "code",
   "execution_count": 8,
   "id": "dc8a8b82-d8d5-4eb8-81eb-9f0b9efb5abd",
   "metadata": {},
   "outputs": [],
   "source": [
    "import os\n",
    "import sys\n",
    "import pandas as pd\n",
    "import numpy as np\n",
    "import datetime as dt\n",
    "import julia\n",
    "import julian\n",
    "\n",
    "import matplotlib.pyplot as plt\n",
    "from numpy import floor\n",
    "from tqdm import tqdm"
   ]
  },
  {
   "cell_type": "code",
   "execution_count": 2,
   "id": "a1b58816-f43f-411b-92a4-506760707c20",
   "metadata": {},
   "outputs": [],
   "source": [
    "start = dt.datetime(2005,8,1);\n",
    "stop = dt.datetime(2005,9,1);\n",
    "quiet_day = dt.datetime(2005,8,23);\n",
    "sat = 'GRACEA';"
   ]
  },
  {
   "cell_type": "code",
   "execution_count": 3,
   "id": "b1d5b7be-ffec-4fc9-a5dd-b0834deb2aa4",
   "metadata": {},
   "outputs": [
    {
     "name": "stdout",
     "output_type": "stream",
     "text": [
      "Initializing Julia interpreter. This may take some time...\n"
     ]
    }
   ],
   "source": [
    "%reload_ext julia.magic\n",
    "%julia using Dates;\n",
    "%julia using LinearAlgebra;\n",
    "%julia using DataFrames;\n",
    "%julia using SatelliteToolbox"
   ]
  },
  {
   "cell_type": "code",
   "execution_count": 4,
   "id": "0839970d-8be6-49f2-a5e0-5bec7d6f506e",
   "metadata": {},
   "outputs": [],
   "source": [
    "filepath = 'C:\\\\Users\\\\soumy\\\\OneDrive - The University of Texas at Dallas\\\\Documents\\\\MURI_Project_1\\\\Data\\\\Temp\\\\';\n",
    "# filepath = '/Users/user/OneDrive - The University of Texas at Dallas/Documents/MURI Project/Data/Temp/';\n",
    "\n",
    "os.chdir(filepath)\n",
    "filename = sat + '_Mehta_' + start.strftime(\"%Y-%m-%d\") +'.csv'\n",
    "GRACE_Data = pd.read_csv(filename)\n",
    "GRACE_Data.index = pd.DatetimeIndex(GRACE_Data['Unnamed: 0'])\n",
    "GRACE_Data = GRACE_Data.drop(columns = ['Unnamed: 0'])"
   ]
  },
  {
   "cell_type": "code",
   "execution_count": null,
   "id": "4072ab30-606e-4f5d-ba4e-7f21fee07866",
   "metadata": {},
   "outputs": [],
   "source": []
  },
  {
   "cell_type": "code",
   "execution_count": 5,
   "id": "48c24d48-79f7-4a8e-81d6-f93ef8d7d5d2",
   "metadata": {},
   "outputs": [],
   "source": [
    "# filepath = 'C:\\\\Users\\\\soumy\\\\OneDrive - The University of Texas at Dallas\\\\Documents\\\\MURI Project_1\\\\Data\\\\Temp\\\\';\n",
    "# # filepath = '/Users/user/OneDrive - The University of Texas at Dallas/Documents/MURI Project/Data/Temp/';\n",
    "\n",
    "# os.chdir(filepath)\n",
    "# filename = sat + '_Eric_' + start.strftime(\"%Y-%m-%d\") +'.csv'\n",
    "# GRACE_Data_Eric = pd.read_csv(filename)\n",
    "# GRACE_Data_Eric.index = pd.DatetimeIndex(GRACE_Data_Eric['Unnamed: 0'])\n",
    "# GRACE_Data_Eric = GRACE_Data_Eric.drop(columns = ['Unnamed: 0'])"
   ]
  },
  {
   "cell_type": "code",
   "execution_count": null,
   "id": "519412fe-6ce6-42bb-9de4-fd14169454ff",
   "metadata": {},
   "outputs": [],
   "source": []
  },
  {
   "cell_type": "code",
   "execution_count": 6,
   "id": "59ebc022-8eda-4028-a12d-8f72af25d144",
   "metadata": {},
   "outputs": [],
   "source": [
    "## Quiet-time background data using JB08\n",
    "## Import Solar Indices\n",
    "\n",
    "# F10, S10, M10, Y10 data release 5_4g (28-Jul-2021 13:38:06.00) by Space Environment Technologies\n",
    "filepath = \"C:\\\\Users\\\\soumy\\\\OneDrive - The University of Texas at Dallas\\\\Documents\\\\MURI_Project_1\\\\Data\\\\Solar Indices\\\\\"\n",
    "os.chdir(filepath)\n",
    "\n",
    "SOLdata = pd.read_fwf('SOLFSMY.txt',skiprows=4,infer_nrows = 1000,header = None)\n",
    "SOLdata.columns = ['YYYY' ,'DDD','JulianDay','F10','F81c','S10','S81c','M10','M81c','Y10','Y81c','Ssrc']\n",
    "DTCdata = np.array(pd.read_fwf('DTCFILE.txt',infer_nrows = 1000,header = None))\n"
   ]
  },
  {
   "cell_type": "code",
   "execution_count": 7,
   "id": "d10d89ad-fd2e-471e-9c86-5538e2972d6a",
   "metadata": {},
   "outputs": [],
   "source": [
    "F10 = [];S10 = [];M10 = []; Y10 = []\n",
    "F10c = [];S10c = [];M10c = []; Y10c = [];DstDTC = [];\n",
    "ap = [];F10a = [];JD = [];\n",
    "# year = quiet_day.year; month = quiet_day.month; day = quiet_day.day; ##quiet day"
   ]
  },
  {
   "cell_type": "code",
   "execution_count": 9,
   "id": "8fdcbfc8-cf9f-4050-a10c-ab93f7e45055",
   "metadata": {},
   "outputs": [
    {
     "name": "stderr",
     "output_type": "stream",
     "text": [
      "100%|██████████| 534788/534788 [07:22<00:00, 1207.51it/s]\n"
     ]
    }
   ],
   "source": [
    "for i in tqdm(range(len(GRACE_Data))):\n",
    "    t0 = GRACE_Data.index[i]\n",
    "    # t1 = dt.datetime(year,month,day,t0.hour,t0.minute,t0.second) ##repeat quiet day\n",
    "    t1 = t0\n",
    "    jd = julian.to_jd(t1)\n",
    "    JD.append(jd)\n",
    "    year = t1.year\n",
    "    DOY = (t1 - dt.datetime(year,1,1,0,0,0))/dt.timedelta(days = 1) + 1\n",
    "    j = np.where((SOLdata['YYYY'] == year) & (SOLdata['DDD'] == floor(DOY)))[0][0]\n",
    "    F10.append(SOLdata['F10'][j-1])\n",
    "    S10.append(SOLdata['S10'][j-1])\n",
    "    M10.append(SOLdata['M10'][j-2])\n",
    "    Y10.append(SOLdata['Y10'][j-5])\n",
    "    F10c.append(SOLdata['F81c'][j-1]) \n",
    "    S10c.append(SOLdata['S81c'][j-1])\n",
    "    M10c.append(SOLdata['M81c'][j-2])\n",
    "    Y10c.append(SOLdata['Y81c'][j-5])\n",
    "    j = np.where((DTCdata[:,1] == year) & (DTCdata[:,2] == floor(DOY)))[0][0]\n",
    "    DstDTC.append(DTCdata[j,t1.hour+3])"
   ]
  },
  {
   "cell_type": "code",
   "execution_count": 18,
   "id": "33904e6a-9eb4-41d1-9f56-783dd87c1e16",
   "metadata": {},
   "outputs": [
    {
     "name": "stdout",
     "output_type": "stream",
     "text": [
      "Done idiot!!\n"
     ]
    }
   ],
   "source": [
    "print(\"Done idiot!!\")"
   ]
  },
  {
   "cell_type": "code",
   "execution_count": 10,
   "id": "31e59817-5d6e-416a-a6d6-a5eeaef51596",
   "metadata": {},
   "outputs": [],
   "source": [
    "%julia JD = $JD; F10 = $F10; S10 = $S10; M10 = $M10; Y10 = $Y10; F10c = $F10c; S10c = $S10c; M10c = $M10c; Y10c = $Y10c; DstDTC = $DstDTC\n",
    "%julia LAT = py\"GRACE_Data['Latitude (deg)']\"; LON = py\"GRACE_Data['Longitude (deg)']\"; ALT = py\"GRACE_Data['Altitude (km)']\";\n",
    "%julia gc_lat = []; gc_alt = [];\n",
    "%julia for i = 1:length(LAT); y,z = geodetic_to_geocentric(deg2rad(LAT[i]),ALT[i]*1000);y0,z0 = geodetic_to_geocentric(deg2rad(LAT[i]),0) ;push!(gc_lat,y); push!(gc_alt,z-z0); end; \n",
    "%julia global DataJB = []; \n",
    "rho = []; nO2 = []; nN2 = []; nO = []; nAr = []; nHe = []; nH = []; T_exo = [];Tz = [];\n",
    "%julia for i= 1:length(JD); push!(DataJB,jb2008(JD[i],gc_lat[i],deg2rad(LON[i]),gc_alt[i],F10[i],F10c[i],S10[i],S10c[i],M10[i],M10c[i],Y10[i],Y10c[i],DstDTC[i])); end;\n",
    "\n",
    "DataJB = %julia DataJB\n",
    "for i in range(len(GRACE_Data)):\n",
    "    rho.append(DataJB[i].rho)\n",
    "    nO2.append(DataJB[i].nO2)\n",
    "    nN2.append(DataJB[i].nN2)\n",
    "    nO.append(DataJB[i].nO)\n",
    "    nAr.append(DataJB[i].nAr)\n",
    "    nHe.append(DataJB[i].nHe)\n",
    "    nH.append(DataJB[i].nH)\n",
    "    T_exo.append(DataJB[i].T_exo)\n",
    "    Tz.append(DataJB[i].Tz)\n",
    "    \n",
    "Data_JB = pd.DataFrame({'rho': rho,\n",
    "                       'nO2': nO2,\n",
    "                        'nN2': nN2,\n",
    "                        'nO' : nO,\n",
    "                        'nAr':nAr,\n",
    "                        'nHe':nHe,\n",
    "                        'nH':nH,\n",
    "                        'T_exo':T_exo,\n",
    "                        'Tz':Tz\n",
    "                       },index = GRACE_Data.index)"
   ]
  },
  {
   "cell_type": "code",
   "execution_count": 11,
   "id": "3ae9ddb0-48d4-4d77-968f-502061b67220",
   "metadata": {},
   "outputs": [
    {
     "data": {
      "text/html": [
       "<div>\n",
       "<style scoped>\n",
       "    .dataframe tbody tr th:only-of-type {\n",
       "        vertical-align: middle;\n",
       "    }\n",
       "\n",
       "    .dataframe tbody tr th {\n",
       "        vertical-align: top;\n",
       "    }\n",
       "\n",
       "    .dataframe thead th {\n",
       "        text-align: right;\n",
       "    }\n",
       "</style>\n",
       "<table border=\"1\" class=\"dataframe\">\n",
       "  <thead>\n",
       "    <tr style=\"text-align: right;\">\n",
       "      <th></th>\n",
       "      <th>rho</th>\n",
       "      <th>nO2</th>\n",
       "      <th>nN2</th>\n",
       "      <th>nO</th>\n",
       "      <th>nAr</th>\n",
       "      <th>nHe</th>\n",
       "      <th>nH</th>\n",
       "      <th>T_exo</th>\n",
       "      <th>Tz</th>\n",
       "    </tr>\n",
       "    <tr>\n",
       "      <th>Unnamed: 0</th>\n",
       "      <th></th>\n",
       "      <th></th>\n",
       "      <th></th>\n",
       "      <th></th>\n",
       "      <th></th>\n",
       "      <th></th>\n",
       "      <th></th>\n",
       "      <th></th>\n",
       "      <th></th>\n",
       "    </tr>\n",
       "  </thead>\n",
       "  <tbody>\n",
       "    <tr>\n",
       "      <th>2005-08-01 00:00:00</th>\n",
       "      <td>2.252175e-13</td>\n",
       "      <td>1.475024e+09</td>\n",
       "      <td>6.905757e+10</td>\n",
       "      <td>7.876075e+12</td>\n",
       "      <td>8.636830e+05</td>\n",
       "      <td>1.892359e+12</td>\n",
       "      <td>6.966630e+10</td>\n",
       "      <td>838.412334</td>\n",
       "      <td>832.755224</td>\n",
       "    </tr>\n",
       "    <tr>\n",
       "      <th>2005-08-01 00:00:05</th>\n",
       "      <td>2.247384e-13</td>\n",
       "      <td>1.467484e+09</td>\n",
       "      <td>6.875448e+10</td>\n",
       "      <td>7.858691e+12</td>\n",
       "      <td>8.580245e+05</td>\n",
       "      <td>1.891838e+12</td>\n",
       "      <td>7.005159e+10</td>\n",
       "      <td>837.782906</td>\n",
       "      <td>832.145812</td>\n",
       "    </tr>\n",
       "    <tr>\n",
       "      <th>2005-08-01 00:00:10</th>\n",
       "      <td>2.242634e-13</td>\n",
       "      <td>1.460023e+09</td>\n",
       "      <td>6.845439e+10</td>\n",
       "      <td>7.841458e+12</td>\n",
       "      <td>8.524322e+05</td>\n",
       "      <td>1.891323e+12</td>\n",
       "      <td>7.043973e+10</td>\n",
       "      <td>837.153191</td>\n",
       "      <td>831.536174</td>\n",
       "    </tr>\n",
       "    <tr>\n",
       "      <th>2005-08-01 00:00:15</th>\n",
       "      <td>2.237989e-13</td>\n",
       "      <td>1.452730e+09</td>\n",
       "      <td>6.816089e+10</td>\n",
       "      <td>7.824599e+12</td>\n",
       "      <td>8.469715e+05</td>\n",
       "      <td>1.890828e+12</td>\n",
       "      <td>7.082838e+10</td>\n",
       "      <td>836.527008</td>\n",
       "      <td>830.930073</td>\n",
       "    </tr>\n",
       "    <tr>\n",
       "      <th>2005-08-01 00:00:20</th>\n",
       "      <td>2.233299e-13</td>\n",
       "      <td>1.445399e+09</td>\n",
       "      <td>6.786562e+10</td>\n",
       "      <td>7.807578e+12</td>\n",
       "      <td>8.414918e+05</td>\n",
       "      <td>1.890320e+12</td>\n",
       "      <td>7.121968e+10</td>\n",
       "      <td>835.900593</td>\n",
       "      <td>830.323772</td>\n",
       "    </tr>\n",
       "    <tr>\n",
       "      <th>...</th>\n",
       "      <td>...</td>\n",
       "      <td>...</td>\n",
       "      <td>...</td>\n",
       "      <td>...</td>\n",
       "      <td>...</td>\n",
       "      <td>...</td>\n",
       "      <td>...</td>\n",
       "      <td>...</td>\n",
       "      <td>...</td>\n",
       "    </tr>\n",
       "    <tr>\n",
       "      <th>2005-08-31 23:59:35</th>\n",
       "      <td>1.347758e-12</td>\n",
       "      <td>6.064220e+10</td>\n",
       "      <td>1.753629e+12</td>\n",
       "      <td>4.680078e+13</td>\n",
       "      <td>9.283145e+07</td>\n",
       "      <td>2.956415e+12</td>\n",
       "      <td>9.504281e+09</td>\n",
       "      <td>1158.025315</td>\n",
       "      <td>1156.791925</td>\n",
       "    </tr>\n",
       "    <tr>\n",
       "      <th>2005-08-31 23:59:40</th>\n",
       "      <td>1.353612e-12</td>\n",
       "      <td>6.116875e+10</td>\n",
       "      <td>1.766883e+12</td>\n",
       "      <td>4.699619e+13</td>\n",
       "      <td>9.384608e+07</td>\n",
       "      <td>2.959171e+12</td>\n",
       "      <td>9.486783e+09</td>\n",
       "      <td>1158.428066</td>\n",
       "      <td>1157.196492</td>\n",
       "    </tr>\n",
       "    <tr>\n",
       "      <th>2005-08-31 23:59:45</th>\n",
       "      <td>1.359445e-12</td>\n",
       "      <td>6.169545e+10</td>\n",
       "      <td>1.780127e+12</td>\n",
       "      <td>4.719082e+13</td>\n",
       "      <td>9.486325e+07</td>\n",
       "      <td>2.961908e+12</td>\n",
       "      <td>9.469534e+09</td>\n",
       "      <td>1158.826468</td>\n",
       "      <td>1157.596462</td>\n",
       "    </tr>\n",
       "    <tr>\n",
       "      <th>2005-08-31 23:59:50</th>\n",
       "      <td>1.365286e-12</td>\n",
       "      <td>6.222503e+10</td>\n",
       "      <td>1.793429e+12</td>\n",
       "      <td>4.738567e+13</td>\n",
       "      <td>9.588818e+07</td>\n",
       "      <td>2.964640e+12</td>\n",
       "      <td>9.452450e+09</td>\n",
       "      <td>1159.222572</td>\n",
       "      <td>1157.993822</td>\n",
       "    </tr>\n",
       "    <tr>\n",
       "      <th>2005-08-31 23:59:55</th>\n",
       "      <td>1.371112e-12</td>\n",
       "      <td>6.275532e+10</td>\n",
       "      <td>1.806734e+12</td>\n",
       "      <td>4.757995e+13</td>\n",
       "      <td>9.691674e+07</td>\n",
       "      <td>2.967357e+12</td>\n",
       "      <td>9.435554e+09</td>\n",
       "      <td>1159.615533</td>\n",
       "      <td>1158.387853</td>\n",
       "    </tr>\n",
       "  </tbody>\n",
       "</table>\n",
       "<p>534788 rows × 9 columns</p>\n",
       "</div>"
      ],
      "text/plain": [
       "                              rho           nO2           nN2            nO  \\\n",
       "Unnamed: 0                                                                    \n",
       "2005-08-01 00:00:00  2.252175e-13  1.475024e+09  6.905757e+10  7.876075e+12   \n",
       "2005-08-01 00:00:05  2.247384e-13  1.467484e+09  6.875448e+10  7.858691e+12   \n",
       "2005-08-01 00:00:10  2.242634e-13  1.460023e+09  6.845439e+10  7.841458e+12   \n",
       "2005-08-01 00:00:15  2.237989e-13  1.452730e+09  6.816089e+10  7.824599e+12   \n",
       "2005-08-01 00:00:20  2.233299e-13  1.445399e+09  6.786562e+10  7.807578e+12   \n",
       "...                           ...           ...           ...           ...   \n",
       "2005-08-31 23:59:35  1.347758e-12  6.064220e+10  1.753629e+12  4.680078e+13   \n",
       "2005-08-31 23:59:40  1.353612e-12  6.116875e+10  1.766883e+12  4.699619e+13   \n",
       "2005-08-31 23:59:45  1.359445e-12  6.169545e+10  1.780127e+12  4.719082e+13   \n",
       "2005-08-31 23:59:50  1.365286e-12  6.222503e+10  1.793429e+12  4.738567e+13   \n",
       "2005-08-31 23:59:55  1.371112e-12  6.275532e+10  1.806734e+12  4.757995e+13   \n",
       "\n",
       "                              nAr           nHe            nH        T_exo  \\\n",
       "Unnamed: 0                                                                   \n",
       "2005-08-01 00:00:00  8.636830e+05  1.892359e+12  6.966630e+10   838.412334   \n",
       "2005-08-01 00:00:05  8.580245e+05  1.891838e+12  7.005159e+10   837.782906   \n",
       "2005-08-01 00:00:10  8.524322e+05  1.891323e+12  7.043973e+10   837.153191   \n",
       "2005-08-01 00:00:15  8.469715e+05  1.890828e+12  7.082838e+10   836.527008   \n",
       "2005-08-01 00:00:20  8.414918e+05  1.890320e+12  7.121968e+10   835.900593   \n",
       "...                           ...           ...           ...          ...   \n",
       "2005-08-31 23:59:35  9.283145e+07  2.956415e+12  9.504281e+09  1158.025315   \n",
       "2005-08-31 23:59:40  9.384608e+07  2.959171e+12  9.486783e+09  1158.428066   \n",
       "2005-08-31 23:59:45  9.486325e+07  2.961908e+12  9.469534e+09  1158.826468   \n",
       "2005-08-31 23:59:50  9.588818e+07  2.964640e+12  9.452450e+09  1159.222572   \n",
       "2005-08-31 23:59:55  9.691674e+07  2.967357e+12  9.435554e+09  1159.615533   \n",
       "\n",
       "                              Tz  \n",
       "Unnamed: 0                        \n",
       "2005-08-01 00:00:00   832.755224  \n",
       "2005-08-01 00:00:05   832.145812  \n",
       "2005-08-01 00:00:10   831.536174  \n",
       "2005-08-01 00:00:15   830.930073  \n",
       "2005-08-01 00:00:20   830.323772  \n",
       "...                          ...  \n",
       "2005-08-31 23:59:35  1156.791925  \n",
       "2005-08-31 23:59:40  1157.196492  \n",
       "2005-08-31 23:59:45  1157.596462  \n",
       "2005-08-31 23:59:50  1157.993822  \n",
       "2005-08-31 23:59:55  1158.387853  \n",
       "\n",
       "[534788 rows x 9 columns]"
      ]
     },
     "execution_count": 11,
     "metadata": {},
     "output_type": "execute_result"
    }
   ],
   "source": [
    "Data_JB"
   ]
  },
  {
   "cell_type": "code",
   "execution_count": 10,
   "id": "b8104a26-d38e-4591-9ff9-7e97fd7b43ad",
   "metadata": {},
   "outputs": [],
   "source": [
    "idx = np.where((GRACE_Data.index >= quiet_day) & (GRACE_Data.index <= quiet_day + dt.timedelta(days=1)))[0]\n",
    "ratio = [GRACE_Data['Density_Eric (kg/m^3)'][i]/Data_JB['rho'][i] for i in idx]\n",
    "time = [(GRACE_Data.index[i] - GRACE_Data.index[0])/dt.timedelta(seconds = 1) for i in idx]"
   ]
  },
  {
   "cell_type": "code",
   "execution_count": 11,
   "id": "7c6a110f-a3b4-4cec-9730-a7453da3eea0",
   "metadata": {},
   "outputs": [],
   "source": [
    "z = np.polyfit(time,ratio,15);\n",
    "p = np.poly1d(z)\n",
    "fitted_ratio = [p(t) for t in time]"
   ]
  },
  {
   "cell_type": "code",
   "execution_count": 12,
   "id": "0bc77305-cea5-4ed4-a0bf-5f78de209150",
   "metadata": {},
   "outputs": [],
   "source": [
    "JD = [];F10 = [];S10 = [];M10 = []; Y10 = []\n",
    "F10c = [];S10c = [];M10c = []; Y10c = [];DstDTC = [];\n",
    "ap = [];F10a = [];\n",
    "year = quiet_day.year; month = quiet_day.month; day = quiet_day.day; ##quiet day\n"
   ]
  },
  {
   "cell_type": "code",
   "execution_count": 13,
   "id": "e7d8845f-4aa1-4c38-8cac-146873e66e35",
   "metadata": {},
   "outputs": [],
   "source": [
    "for i in range(len(GRACE_Data)):\n",
    "    t0 = GRACE_Data.index[i]\n",
    "    t1 = dt.datetime(year,month,day,t0.hour,t0.minute,t0.second) ##repeat quiet day\n",
    "    # t1 = t0\n",
    "    jd = julian.to_jd(t1)\n",
    "    JD.append(jd)\n",
    "    DOY = (t1 - dt.datetime(year,1,1,0,0,0))/dt.timedelta(days = 1) + 1\n",
    "    j = np.where((SOLdata['YYYY'] == year) & (SOLdata['DDD'] == floor(DOY)))[0][0]\n",
    "    F10.append(SOLdata['F10'][j-1])\n",
    "    S10.append(SOLdata['S10'][j-1])\n",
    "    M10.append(SOLdata['M10'][j-2])\n",
    "    Y10.append(SOLdata['Y10'][j-5])\n",
    "    F10c.append(SOLdata['F81c'][j-1]) \n",
    "    S10c.append(SOLdata['S81c'][j-1])\n",
    "    M10c.append(SOLdata['M81c'][j-2])\n",
    "    Y10c.append(SOLdata['Y81c'][j-5])\n",
    "    j = np.where((DTCdata[:,1] == year) & (DTCdata[:,2] == floor(DOY)))[0][0]\n",
    "    DstDTC.append(DTCdata[j,t1.hour+3])"
   ]
  },
  {
   "cell_type": "code",
   "execution_count": 9,
   "id": "4fb8be88-a85c-442e-be33-baac6dbb4374",
   "metadata": {},
   "outputs": [
    {
     "ename": "KeyboardInterrupt",
     "evalue": "",
     "output_type": "error",
     "traceback": [
      "\u001b[1;31m---------------------------------------------------------------------------\u001b[0m",
      "\u001b[1;31mKeyboardInterrupt\u001b[0m                         Traceback (most recent call last)",
      "Input \u001b[1;32mIn [9]\u001b[0m, in \u001b[0;36m<cell line: 7>\u001b[1;34m()\u001b[0m\n\u001b[0;32m      5\u001b[0m get_ipython()\u001b[38;5;241m.\u001b[39mrun_line_magic(\u001b[38;5;124m'\u001b[39m\u001b[38;5;124mjulia\u001b[39m\u001b[38;5;124m'\u001b[39m, \u001b[38;5;124m'\u001b[39m\u001b[38;5;124mglobal DataJB = [];\u001b[39m\u001b[38;5;124m'\u001b[39m)\n\u001b[0;32m      6\u001b[0m rho \u001b[38;5;241m=\u001b[39m []; nO2 \u001b[38;5;241m=\u001b[39m []; nN2 \u001b[38;5;241m=\u001b[39m []; nO \u001b[38;5;241m=\u001b[39m []; nAr \u001b[38;5;241m=\u001b[39m []; nHe \u001b[38;5;241m=\u001b[39m []; nH \u001b[38;5;241m=\u001b[39m []; T_exo \u001b[38;5;241m=\u001b[39m [];Tz \u001b[38;5;241m=\u001b[39m [];\n\u001b[1;32m----> 7\u001b[0m \u001b[43mget_ipython\u001b[49m\u001b[43m(\u001b[49m\u001b[43m)\u001b[49m\u001b[38;5;241;43m.\u001b[39;49m\u001b[43mrun_line_magic\u001b[49m\u001b[43m(\u001b[49m\u001b[38;5;124;43m'\u001b[39;49m\u001b[38;5;124;43mjulia\u001b[39;49m\u001b[38;5;124;43m'\u001b[39;49m\u001b[43m,\u001b[49m\u001b[43m \u001b[49m\u001b[38;5;124;43m'\u001b[39;49m\u001b[38;5;124;43mfor i= 1:length(JD); push!(DataJB,jb2008(JD[i],gc_lat[i],deg2rad(LON[i]),gc_alt[i],F10[i],F10c[i],S10[i],S10c[i],M10[i],M10c[i],Y10[i],Y10c[i],0)); end;\u001b[39;49m\u001b[38;5;124;43m'\u001b[39;49m\u001b[43m)\u001b[49m\n\u001b[0;32m      9\u001b[0m DataJB \u001b[38;5;241m=\u001b[39m get_ipython()\u001b[38;5;241m.\u001b[39mrun_line_magic(\u001b[38;5;124m'\u001b[39m\u001b[38;5;124mjulia\u001b[39m\u001b[38;5;124m'\u001b[39m, \u001b[38;5;124m'\u001b[39m\u001b[38;5;124mDataJB\u001b[39m\u001b[38;5;124m'\u001b[39m)\n\u001b[0;32m     10\u001b[0m \u001b[38;5;28;01mfor\u001b[39;00m i \u001b[38;5;129;01min\u001b[39;00m \u001b[38;5;28mrange\u001b[39m(\u001b[38;5;28mlen\u001b[39m(GRACE_Data)):\n",
      "File \u001b[1;32m~\\anaconda3\\lib\\site-packages\\IPython\\core\\interactiveshell.py:2294\u001b[0m, in \u001b[0;36mInteractiveShell.run_line_magic\u001b[1;34m(self, magic_name, line, _stack_depth)\u001b[0m\n\u001b[0;32m   2292\u001b[0m     kwargs[\u001b[38;5;124m'\u001b[39m\u001b[38;5;124mlocal_ns\u001b[39m\u001b[38;5;124m'\u001b[39m] \u001b[38;5;241m=\u001b[39m \u001b[38;5;28mself\u001b[39m\u001b[38;5;241m.\u001b[39mget_local_scope(stack_depth)\n\u001b[0;32m   2293\u001b[0m \u001b[38;5;28;01mwith\u001b[39;00m \u001b[38;5;28mself\u001b[39m\u001b[38;5;241m.\u001b[39mbuiltin_trap:\n\u001b[1;32m-> 2294\u001b[0m     result \u001b[38;5;241m=\u001b[39m fn(\u001b[38;5;241m*\u001b[39margs, \u001b[38;5;241m*\u001b[39m\u001b[38;5;241m*\u001b[39mkwargs)\n\u001b[0;32m   2295\u001b[0m \u001b[38;5;28;01mreturn\u001b[39;00m result\n",
      "File \u001b[1;32m~\\anaconda3\\lib\\site-packages\\julia\\magic.py:122\u001b[0m, in \u001b[0;36mJuliaMagics.julia\u001b[1;34m(self, line, cell)\u001b[0m\n\u001b[0;32m    118\u001b[0m     caller_frame \u001b[38;5;241m=\u001b[39m caller_frame\u001b[38;5;241m.\u001b[39mf_back\n\u001b[0;32m    120\u001b[0m return_value \u001b[38;5;241m=\u001b[39m \u001b[38;5;124m\"\u001b[39m\u001b[38;5;124mnothing\u001b[39m\u001b[38;5;124m\"\u001b[39m \u001b[38;5;28;01mif\u001b[39;00m src\u001b[38;5;241m.\u001b[39mstrip()\u001b[38;5;241m.\u001b[39mendswith(\u001b[38;5;124m\"\u001b[39m\u001b[38;5;124m;\u001b[39m\u001b[38;5;124m\"\u001b[39m) \u001b[38;5;28;01melse\u001b[39;00m \u001b[38;5;124m\"\u001b[39m\u001b[38;5;124m\"\u001b[39m\n\u001b[1;32m--> 122\u001b[0m \u001b[38;5;28;01mreturn\u001b[39;00m \u001b[38;5;28;43mself\u001b[39;49m\u001b[38;5;241;43m.\u001b[39;49m\u001b[43m_julia\u001b[49m\u001b[38;5;241;43m.\u001b[39;49m\u001b[43meval\u001b[49m\u001b[43m(\u001b[49m\n\u001b[0;32m    123\u001b[0m \u001b[43m    \u001b[49m\u001b[38;5;124;43;03m\"\"\"\u001b[39;49;00m\n\u001b[0;32m    124\u001b[0m \u001b[38;5;124;43;03m    _PyJuliaHelper.@prepare_for_pyjulia_call begin\u001b[39;49;00m\n\u001b[0;32m    125\u001b[0m \u001b[38;5;124;43;03m        begin %s end\u001b[39;49;00m\n\u001b[0;32m    126\u001b[0m \u001b[38;5;124;43;03m        %s\u001b[39;49;00m\n\u001b[0;32m    127\u001b[0m \u001b[38;5;124;43;03m    end\u001b[39;49;00m\n\u001b[0;32m    128\u001b[0m \u001b[38;5;124;43;03m    \"\"\"\u001b[39;49;00m\n\u001b[0;32m    129\u001b[0m \u001b[43m    \u001b[49m\u001b[38;5;241;43m%\u001b[39;49m\u001b[43m \u001b[49m\u001b[43m(\u001b[49m\u001b[43msrc\u001b[49m\u001b[43m,\u001b[49m\u001b[43m \u001b[49m\u001b[43mreturn_value\u001b[49m\u001b[43m)\u001b[49m\n\u001b[0;32m    130\u001b[0m \u001b[43m\u001b[49m\u001b[43m)\u001b[49m\u001b[43m(\u001b[49m\u001b[38;5;28;43mself\u001b[39;49m\u001b[38;5;241;43m.\u001b[39;49m\u001b[43mshell\u001b[49m\u001b[38;5;241;43m.\u001b[39;49m\u001b[43muser_ns\u001b[49m\u001b[43m,\u001b[49m\u001b[43m \u001b[49m\u001b[43mcaller_frame\u001b[49m\u001b[38;5;241;43m.\u001b[39;49m\u001b[43mf_locals\u001b[49m\u001b[43m)\u001b[49m\n",
      "File \u001b[1;32m~\\anaconda3\\lib\\site-packages\\pandas\\core\\series.py:944\u001b[0m, in \u001b[0;36mSeries.__getitem__\u001b[1;34m(self, key)\u001b[0m\n\u001b[0;32m    943\u001b[0m \u001b[38;5;28;01mdef\u001b[39;00m \u001b[38;5;21m__getitem__\u001b[39m(\u001b[38;5;28mself\u001b[39m, key):\n\u001b[1;32m--> 944\u001b[0m     \u001b[43mcheck_deprecated_indexers\u001b[49m(key)\n\u001b[0;32m    945\u001b[0m     key \u001b[38;5;241m=\u001b[39m com\u001b[38;5;241m.\u001b[39mapply_if_callable(key, \u001b[38;5;28mself\u001b[39m)\n\u001b[0;32m    947\u001b[0m     \u001b[38;5;28;01mif\u001b[39;00m key \u001b[38;5;129;01mis\u001b[39;00m \u001b[38;5;28mEllipsis\u001b[39m:\n",
      "\u001b[1;31mKeyboardInterrupt\u001b[0m: "
     ]
    }
   ],
   "source": [
    "%julia JD = $JD; F10 = $F10; S10 = $S10; M10 = $M10; Y10 = $Y10; F10c = $F10c; S10c = $S10c; M10c = $M10c; Y10c = $Y10c; DstDTC = $DstDTC\n",
    "%julia LAT = py\"GRACE_Data['Latitude (deg)']\"; LON = py\"GRACE_Data['Longitude (deg)']\"; ALT = py\"GRACE_Data['Altitude (km)']\";\n",
    "%julia gc_lat = []; gc_alt = [];\n",
    "%julia for i = 1:length(LAT); y,z = geodetic_to_geocentric(deg2rad(LAT[i]),ALT[i]*1000);y0,z0 = geodetic_to_geocentric(deg2rad(LAT[i]),0) ;push!(gc_lat,y); push!(gc_alt,z-z0); end; \n",
    "%julia global DataJB = []; \n",
    "rho = []; nO2 = []; nN2 = []; nO = []; nAr = []; nHe = []; nH = []; T_exo = [];Tz = [];\n",
    "%julia for i= 1:length(JD); push!(DataJB,jb2008(JD[i],gc_lat[i],deg2rad(LON[i]),gc_alt[i],F10[i],F10c[i],S10[i],S10c[i],M10[i],M10c[i],Y10[i],Y10c[i],0)); end;\n",
    "\n",
    "DataJB = %julia DataJB\n",
    "for i in range(len(GRACE_Data)):\n",
    "    rho.append(DataJB[i].rho)\n",
    "    nO2.append(DataJB[i].nO2)\n",
    "    nN2.append(DataJB[i].nN2)\n",
    "    nO.append(DataJB[i].nO)\n",
    "    nAr.append(DataJB[i].nAr)\n",
    "    nHe.append(DataJB[i].nHe)\n",
    "    nH.append(DataJB[i].nH)\n",
    "    T_exo.append(DataJB[i].T_exo)\n",
    "    Tz.append(DataJB[i].Tz)\n",
    "    \n",
    "Data_JB_qt = pd.DataFrame({'rho': rho,\n",
    "                       'nO2': nO2,\n",
    "                        'nN2': nN2,\n",
    "                        'nO' : nO,\n",
    "                        'nAr':nAr,\n",
    "                        'nHe':nHe,\n",
    "                        'nH':nH,\n",
    "                        'T_exo':T_exo,\n",
    "                        'Tz':Tz\n",
    "                       },index = GRACE_Data.index)"
   ]
  },
  {
   "cell_type": "code",
   "execution_count": 12,
   "id": "f2054f3e-1b00-462e-b423-62b84d0dcda1",
   "metadata": {},
   "outputs": [],
   "source": [
    "filepath = \"C:\\\\Users\\\\soumy\\\\OneDrive - The University of Texas at Dallas\\\\Documents\\\\MURI_Project_1\\\\Data\\\\Temp\\\\\"\n",
    "os.chdir(filepath)\n",
    "\n",
    "filename = 'JB_output_'+ sat + '_' + start.strftime('%Y-%m-%d') +'.csv'\n",
    "Data_JB.to_csv(filename)"
   ]
  },
  {
   "cell_type": "code",
   "execution_count": 16,
   "id": "8e07f773-ee98-49ff-9cba-6376e3bd7e17",
   "metadata": {},
   "outputs": [],
   "source": [
    "filepath = \"C:\\\\Users\\\\soumy\\\\OneDrive - The University of Texas at Dallas\\\\Documents\\\\MURI_Project_1\\\\Data\\\\Temp\\\\\"\n",
    "os.chdir(filepath)\n",
    "\n",
    "filename = 'JB_output_qt_'+ sat + '_' + start.strftime('%Y-%m-%d') +'.csv'\n",
    "Data_JB_qt.to_csv(filename)"
   ]
  },
  {
   "cell_type": "code",
   "execution_count": 17,
   "id": "a35480e4-f1a4-419a-929d-e09668a609fd",
   "metadata": {},
   "outputs": [
    {
     "name": "stdout",
     "output_type": "stream",
     "text": [
      "Done!\n"
     ]
    }
   ],
   "source": [
    "print(\"Done!\")"
   ]
  },
  {
   "cell_type": "code",
   "execution_count": 21,
   "id": "3f80b45c-7bcb-4429-92a8-68e2c4687358",
   "metadata": {},
   "outputs": [
    {
     "data": {
      "text/plain": [
       "[<matplotlib.lines.Line2D at 0x243830494f0>]"
      ]
     },
     "execution_count": 21,
     "metadata": {},
     "output_type": "execute_result"
    },
    {
     "data": {
      "image/png": "[encoded data removed]",
      "text/plain": [
       "<Figure size 432x288 with 1 Axes>"
      ]
     },
     "metadata": {
      "needs_background": "light"
     },
     "output_type": "display_data"
    }
   ],
   "source": [
    "plt.figure()\n",
    "plt.plot(Data_JB['rho'])\n",
    "plt.plot(Data_JB_qt['rho'])"
   ]
  },
  {
   "cell_type": "code",
   "execution_count": null,
   "id": "10abc9a7-90a9-4683-a368-e9dbfb24652b",
   "metadata": {},
   "outputs": [],
   "source": []
  }
 ],
 "metadata": {
  "kernelspec": {
   "display_name": "Python 3 (ipykernel)",
   "language": "python",
   "name": "python3"
  },
  "language_info": {
   "codemirror_mode": {
    "name": "ipython",
    "version": 3
   },
   "file_extension": ".py",
   "mimetype": "text/x-python",
   "name": "python",
   "nbconvert_exporter": "python",
   "pygments_lexer": "ipython3",
   "version": "3.9.12"
  }
 },
 "nbformat": 4,
 "nbformat_minor": 5
}
