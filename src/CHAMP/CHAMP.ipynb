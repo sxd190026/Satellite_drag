{
 "cells": [
  {
   "cell_type": "code",
   "execution_count": 9,
   "id": "0fcdd4a3-c3df-4081-88e2-f5cda4a63ca8",
   "metadata": {},
   "outputs": [],
   "source": [
    "import os\n",
    "import sys\n",
    "import pandas as pd\n",
    "import datetime as dt\n",
    "import numpy as np\n",
    "import matplotlib.pyplot as plt\n",
    "import pathlib\n",
    "\n",
    "from scipy.interpolate import splrep,splev\n",
    "%matplotlib widget"
   ]
  },
  {
   "cell_type": "code",
   "execution_count": 11,
   "id": "f7dcf146-3718-41e1-81d1-b908dbcfd5d0",
   "metadata": {},
   "outputs": [],
   "source": [
    "start = dt.datetime(2005,8,23,0,0,0)\n",
    "stop = dt.datetime(2005,8,28,0,0,0)\n",
    "no_of_days = int(np.ceil((stop - start)/dt.timedelta(days=1)))\n",
    "sat = 'CHAMP'"
   ]
  },
  {
   "cell_type": "code",
   "execution_count": 3,
   "id": "c8f12f88-8a56-4fdd-b79e-0a70f78f2172",
   "metadata": {},
   "outputs": [],
   "source": [
    "filepath = 'C:\\\\Users\\\\soumy\\\\OneDrive - The University of Texas at Dallas\\\\Documents\\\\MURI_Project_1\\\\Data\\\\CHAMP\\\\3 deg\\\\'\n",
    "# filepath = '/Users/user/OneDrive - The University of Texas at Dallas/Documents/MURI_Project_1/Data/CHAMP/Mehta/2005/'\n",
    "os.chdir(filepath)\n",
    "filenames = []\n",
    "\n",
    "for d in range(no_of_days):\n",
    "    f = 'Density_3deg_' + str(start.timetuple().tm_year)[2:4] + '_' + str(start.timetuple().tm_yday + d).zfill(3) + '.ascii'\n",
    "    filenames.append(f)\n",
    "\n",
    "column_names = ['Two-digit Year (years)',\n",
    "                'Day of the Year (days)',\n",
    "                'Second of the Day (GPS time,sec)',\n",
    "                'Center Latitude of 3-degree Bin (deg)',\n",
    "                'Satellite Geodetic Latitude (deg)',\n",
    "                'Satellite Longitude (deg)',\n",
    "                'Satellite Height (km)',\n",
    "                'Satellite Local Time (hours)',\n",
    "                'Satellite Quasi-Dipole Latitude (deg)',\n",
    "                'Satellite Magnetic Longitude (deg)',\n",
    "                'Satellite Magnetic Local Time (hours)',\n",
    "                'Neutral Density (kg/m^3)',\n",
    "                'Neutral Density Normalized to 400km using NRLMSISe00',\n",
    "                'Neutral Density Normalized to 410km using NRLMSISe00',\n",
    "                'NRLMSISe00 Neutral Density at Satellite Height',\n",
    "                'Uncertainty in Neutral Density (kg/m^3)',\n",
    "                'Number of Data Points in Current Averaging Bin',\n",
    "                'Number of Points in Current Averaging Bin that Required Interpolation',\n",
    "                'Average Coefficient of Drag Used in Current Averaging Bin']\n",
    "\n",
    "df1 = pd.DataFrame();\n",
    "for f in filenames:\n",
    "    df1 = df1.append(pd.read_fwf(f, colspecs='infer', widths=None, infer_nrows=1000,skiprows = 2,header = None),ignore_index=True)\n",
    "df1.columns = column_names;\n",
    "time_array = [dt.datetime(2000+int(df1['Two-digit Year (years)'][i]),1,1,0,0,0) + dt.timedelta(days = int(df1['Day of the Year (days)'][i])-1) + dt.timedelta(seconds = float(df1['Second of the Day (GPS time,sec)'][i])) for i in range(len(df1))]\n",
    "df1.index = pd.DatetimeIndex(time_array)"
   ]
  },
  {
   "cell_type": "code",
   "execution_count": 4,
   "id": "93b911b6-a3a8-4d61-910f-955d10ecb14a",
   "metadata": {},
   "outputs": [],
   "source": [
    "filepath = 'C:\\\\Users\\\\soumy\\\\OneDrive - The University of Texas at Dallas\\\\Documents\\\\MURI_Project_1\\\\Data\\\\CHAMP\\\\Mehta\\\\2005\\\\'\n",
    "# filepath = '/Users/user/OneDrive - The University of Texas at Dallas/Documents/MURI_Project_1/Data/CHAMP/Mehta/2005/'\n",
    "os.chdir(filepath)\n",
    "\n",
    "filenames = []\n",
    "\n",
    "for d in range(no_of_days):\n",
    "    f = 'CHAMP_Density_' + str(start.timetuple().tm_year)[2:4] + '_' + str(start.timetuple().tm_yday + d).zfill(3) + '.txt'\n",
    "    filenames.append(f)\n",
    "    \n",
    "column_names = ['GPS Time (sec)',\n",
    "                'Altitude (km)',\n",
    "                'Latitude (deg)',\n",
    "                'Longitude (deg)',\n",
    "                'Local Solar Time (sec)',\n",
    "                'Velocity Magnitude (m/s)',\n",
    "                'Surface Temperature (K)',\n",
    "                'Free Stream Temperature (K)',\n",
    "                'Yaw (rad)',\n",
    "                'Pitch (rad)',\n",
    "                'Proj_Area_Eric (m^2)',\n",
    "                'CD_Eric (~)',\n",
    "                'Density_Eric (kg/m^3)',\n",
    "                'Proj_Area_New (m^2)',\n",
    "                'CD_New (~)',\n",
    "                'Density_New (kg/m^3)'];\n",
    "time_array = [];\n",
    "for f in filenames:\n",
    "    df2 = pd.read_csv(f,sep = '\\t',skiprows = 1,header = None)\n",
    "    t0 = df2.iloc[:,0]\n",
    "    for i in range(len(df2)):\n",
    "        time_array.append(dt.datetime(2000+int(f[14:16]),1,1,0,0,0)+dt.timedelta(days = int(f[17:20])-1)+dt.timedelta(seconds = int(df2.iloc[i,0])))\n",
    "\n",
    "df2 = pd.DataFrame()\n",
    "for f in filenames:\n",
    "    df2 = df2.append(pd.read_csv(f,sep = '\\t',skiprows = 1,header = None),ignore_index=True)\n",
    "df2.index = pd.DatetimeIndex(time_array)\n",
    "df2.columns = column_names"
   ]
  },
  {
   "cell_type": "code",
   "execution_count": 5,
   "id": "791fe3df-0c4b-4b77-ae08-efa0c8e0aa87",
   "metadata": {},
   "outputs": [],
   "source": [
    "# T1 = [(df1.index[i] - df2.index[0])/dt.timedelta(seconds=1) for i in range(len(df1))]\n",
    "# T2 = [(df2.index[i] - df2.index[0])/dt.timedelta(seconds=1) for i in range(len(df2))]\n",
    "# tck = splrep(T1,df1['Neutral Density (kg/m^3)'],k=3)\n",
    "# df1_density = splev(T2,tck)\n",
    "\n",
    "# tck = splrep(T1,df1['Average Coefficient of Drag Used in Current Averaging Bin'],k=3)\n",
    "# df1_drag_coeff = splev(T2,tck)\n",
    "\n",
    "# new_cols = ['Neutral Density','Drag Co-efficient']\n",
    "# new_vals = [df1_density,df1_drag_coeff]\n",
    "# col_val_mapping = dict(zip(new_cols, new_vals))\n",
    "# df2 = df2.assign(**col_val_mapping)"
   ]
  },
  {
   "cell_type": "code",
   "execution_count": 7,
   "id": "bbd3f90d-de9c-4a05-8ed9-66d701bbc663",
   "metadata": {},
   "outputs": [],
   "source": [
    "filepath = \"C:\\\\Users\\\\soumy\\\\OneDrive - The University of Texas at Dallas\\\\Documents\\\\MURI_Project_1\\\\Data\\\\Temp\\\\\"\n",
    "os.chdir(filepath)\n",
    "filename = sat + '_Eric_' + start.strftime(\"%Y-%m-%d\") +'.csv' \n",
    "df1.to_csv(filename)"
   ]
  },
  {
   "cell_type": "code",
   "execution_count": 8,
   "id": "2815aac6-860d-43d1-95d1-0110f491b90e",
   "metadata": {},
   "outputs": [],
   "source": [
    "filepath = \"C:\\\\Users\\\\soumy\\\\OneDrive - The University of Texas at Dallas\\\\Documents\\\\MURI_Project_1\\\\Data\\\\Temp\\\\\"\n",
    "os.chdir(filepath)\n",
    "filename = sat + '_Mehta_' + start.strftime(\"%Y-%m-%d\") +'.csv'\n",
    "df2.to_csv(filename)"
   ]
  },
  {
   "cell_type": "code",
   "execution_count": null,
   "id": "55b2bb0f-abba-4b71-8fbe-cd3daa1d8486",
   "metadata": {},
   "outputs": [],
   "source": []
  }
 ],
 "metadata": {
  "kernelspec": {
   "display_name": "Python 3 (ipykernel)",
   "language": "python",
   "name": "python3"
  },
  "language_info": {
   "codemirror_mode": {
    "name": "ipython",
    "version": 3
   },
   "file_extension": ".py",
   "mimetype": "text/x-python",
   "name": "python",
   "nbconvert_exporter": "python",
   "pygments_lexer": "ipython3",
   "version": "3.9.7"
  }
 },
 "nbformat": 4,
 "nbformat_minor": 5
}
